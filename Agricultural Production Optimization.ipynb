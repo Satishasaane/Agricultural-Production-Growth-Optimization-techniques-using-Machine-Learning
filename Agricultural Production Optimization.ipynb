{
 "cells": [
  {
   "cell_type": "code",
   "execution_count": 14,
   "metadata": {},
   "outputs": [],
   "source": [
    "# for manipulation data\n",
    "import pandas as pd\n",
    "import numpy as np\n",
    "# for Data visualazation \n",
    "import seaborn as sns\n",
    "import matplotlib.pyplot as plt\n",
    "from ipywidgets import interact"
   ]
  },
  {
   "cell_type": "code",
   "execution_count": 15,
   "metadata": {},
   "outputs": [],
   "source": [
    "data = pd.read_csv('D:/kaggle project/data.csv')"
   ]
  },
  {
   "cell_type": "code",
   "execution_count": 16,
   "metadata": {},
   "outputs": [
    {
     "data": {
      "text/html": [
       "<div>\n",
       "<style scoped>\n",
       "    .dataframe tbody tr th:only-of-type {\n",
       "        vertical-align: middle;\n",
       "    }\n",
       "\n",
       "    .dataframe tbody tr th {\n",
       "        vertical-align: top;\n",
       "    }\n",
       "\n",
       "    .dataframe thead th {\n",
       "        text-align: right;\n",
       "    }\n",
       "</style>\n",
       "<table border=\"1\" class=\"dataframe\">\n",
       "  <thead>\n",
       "    <tr style=\"text-align: right;\">\n",
       "      <th></th>\n",
       "      <th>N</th>\n",
       "      <th>P</th>\n",
       "      <th>K</th>\n",
       "      <th>temperature</th>\n",
       "      <th>humidity</th>\n",
       "      <th>ph</th>\n",
       "      <th>rainfall</th>\n",
       "      <th>label</th>\n",
       "    </tr>\n",
       "  </thead>\n",
       "  <tbody>\n",
       "    <tr>\n",
       "      <th>0</th>\n",
       "      <td>90</td>\n",
       "      <td>42</td>\n",
       "      <td>43</td>\n",
       "      <td>20.879744</td>\n",
       "      <td>82.002744</td>\n",
       "      <td>6.502985</td>\n",
       "      <td>202.935536</td>\n",
       "      <td>rice</td>\n",
       "    </tr>\n",
       "    <tr>\n",
       "      <th>1</th>\n",
       "      <td>85</td>\n",
       "      <td>58</td>\n",
       "      <td>41</td>\n",
       "      <td>21.770462</td>\n",
       "      <td>80.319644</td>\n",
       "      <td>7.038096</td>\n",
       "      <td>226.655537</td>\n",
       "      <td>rice</td>\n",
       "    </tr>\n",
       "    <tr>\n",
       "      <th>2</th>\n",
       "      <td>60</td>\n",
       "      <td>55</td>\n",
       "      <td>44</td>\n",
       "      <td>23.004459</td>\n",
       "      <td>82.320763</td>\n",
       "      <td>7.840207</td>\n",
       "      <td>263.964248</td>\n",
       "      <td>rice</td>\n",
       "    </tr>\n",
       "    <tr>\n",
       "      <th>3</th>\n",
       "      <td>74</td>\n",
       "      <td>35</td>\n",
       "      <td>40</td>\n",
       "      <td>26.491096</td>\n",
       "      <td>80.158363</td>\n",
       "      <td>6.980401</td>\n",
       "      <td>242.864034</td>\n",
       "      <td>rice</td>\n",
       "    </tr>\n",
       "    <tr>\n",
       "      <th>4</th>\n",
       "      <td>78</td>\n",
       "      <td>42</td>\n",
       "      <td>42</td>\n",
       "      <td>20.130175</td>\n",
       "      <td>81.604873</td>\n",
       "      <td>7.628473</td>\n",
       "      <td>262.717340</td>\n",
       "      <td>rice</td>\n",
       "    </tr>\n",
       "  </tbody>\n",
       "</table>\n",
       "</div>"
      ],
      "text/plain": [
       "    N   P   K  temperature   humidity        ph    rainfall label\n",
       "0  90  42  43    20.879744  82.002744  6.502985  202.935536  rice\n",
       "1  85  58  41    21.770462  80.319644  7.038096  226.655537  rice\n",
       "2  60  55  44    23.004459  82.320763  7.840207  263.964248  rice\n",
       "3  74  35  40    26.491096  80.158363  6.980401  242.864034  rice\n",
       "4  78  42  42    20.130175  81.604873  7.628473  262.717340  rice"
      ]
     },
     "execution_count": 16,
     "metadata": {},
     "output_type": "execute_result"
    }
   ],
   "source": [
    "data.head()"
   ]
  },
  {
   "cell_type": "code",
   "execution_count": 17,
   "metadata": {},
   "outputs": [
    {
     "data": {
      "text/plain": [
       "Index(['N', 'P', 'K', 'temperature', 'humidity', 'ph', 'rainfall', 'label'], dtype='object')"
      ]
     },
     "execution_count": 17,
     "metadata": {},
     "output_type": "execute_result"
    }
   ],
   "source": [
    "data.columns"
   ]
  },
  {
   "cell_type": "code",
   "execution_count": 18,
   "metadata": {},
   "outputs": [
    {
     "name": "stdout",
     "output_type": "stream",
     "text": [
      "Shape of dataset: (2200, 8)\n"
     ]
    }
   ],
   "source": [
    "print(\"Shape of dataset:\" ,data.shape)"
   ]
  },
  {
   "cell_type": "code",
   "execution_count": 19,
   "metadata": {},
   "outputs": [
    {
     "data": {
      "text/plain": [
       "N              0\n",
       "P              0\n",
       "K              0\n",
       "temperature    0\n",
       "humidity       0\n",
       "ph             0\n",
       "rainfall       0\n",
       "label          0\n",
       "dtype: int64"
      ]
     },
     "execution_count": 19,
     "metadata": {},
     "output_type": "execute_result"
    }
   ],
   "source": [
    "data.isnull().sum()"
   ]
  },
  {
   "cell_type": "code",
   "execution_count": 20,
   "metadata": {},
   "outputs": [
    {
     "data": {
      "text/html": [
       "<div>\n",
       "<style scoped>\n",
       "    .dataframe tbody tr th:only-of-type {\n",
       "        vertical-align: middle;\n",
       "    }\n",
       "\n",
       "    .dataframe tbody tr th {\n",
       "        vertical-align: top;\n",
       "    }\n",
       "\n",
       "    .dataframe thead th {\n",
       "        text-align: right;\n",
       "    }\n",
       "</style>\n",
       "<table border=\"1\" class=\"dataframe\">\n",
       "  <thead>\n",
       "    <tr style=\"text-align: right;\">\n",
       "      <th></th>\n",
       "      <th>N</th>\n",
       "      <th>P</th>\n",
       "      <th>K</th>\n",
       "      <th>temperature</th>\n",
       "      <th>humidity</th>\n",
       "      <th>ph</th>\n",
       "      <th>rainfall</th>\n",
       "    </tr>\n",
       "  </thead>\n",
       "  <tbody>\n",
       "    <tr>\n",
       "      <th>count</th>\n",
       "      <td>2200.000000</td>\n",
       "      <td>2200.000000</td>\n",
       "      <td>2200.000000</td>\n",
       "      <td>2200.000000</td>\n",
       "      <td>2200.000000</td>\n",
       "      <td>2200.000000</td>\n",
       "      <td>2200.000000</td>\n",
       "    </tr>\n",
       "    <tr>\n",
       "      <th>mean</th>\n",
       "      <td>50.551818</td>\n",
       "      <td>53.362727</td>\n",
       "      <td>48.149091</td>\n",
       "      <td>25.616244</td>\n",
       "      <td>71.481779</td>\n",
       "      <td>6.469480</td>\n",
       "      <td>103.463655</td>\n",
       "    </tr>\n",
       "    <tr>\n",
       "      <th>std</th>\n",
       "      <td>36.917334</td>\n",
       "      <td>32.985883</td>\n",
       "      <td>50.647931</td>\n",
       "      <td>5.063749</td>\n",
       "      <td>22.263812</td>\n",
       "      <td>0.773938</td>\n",
       "      <td>54.958389</td>\n",
       "    </tr>\n",
       "    <tr>\n",
       "      <th>min</th>\n",
       "      <td>0.000000</td>\n",
       "      <td>5.000000</td>\n",
       "      <td>5.000000</td>\n",
       "      <td>8.825675</td>\n",
       "      <td>14.258040</td>\n",
       "      <td>3.504752</td>\n",
       "      <td>20.211267</td>\n",
       "    </tr>\n",
       "    <tr>\n",
       "      <th>25%</th>\n",
       "      <td>21.000000</td>\n",
       "      <td>28.000000</td>\n",
       "      <td>20.000000</td>\n",
       "      <td>22.769375</td>\n",
       "      <td>60.261953</td>\n",
       "      <td>5.971693</td>\n",
       "      <td>64.551686</td>\n",
       "    </tr>\n",
       "    <tr>\n",
       "      <th>50%</th>\n",
       "      <td>37.000000</td>\n",
       "      <td>51.000000</td>\n",
       "      <td>32.000000</td>\n",
       "      <td>25.598693</td>\n",
       "      <td>80.473146</td>\n",
       "      <td>6.425045</td>\n",
       "      <td>94.867624</td>\n",
       "    </tr>\n",
       "    <tr>\n",
       "      <th>75%</th>\n",
       "      <td>84.250000</td>\n",
       "      <td>68.000000</td>\n",
       "      <td>49.000000</td>\n",
       "      <td>28.561654</td>\n",
       "      <td>89.948771</td>\n",
       "      <td>6.923643</td>\n",
       "      <td>124.267508</td>\n",
       "    </tr>\n",
       "    <tr>\n",
       "      <th>max</th>\n",
       "      <td>140.000000</td>\n",
       "      <td>145.000000</td>\n",
       "      <td>205.000000</td>\n",
       "      <td>43.675493</td>\n",
       "      <td>99.981876</td>\n",
       "      <td>9.935091</td>\n",
       "      <td>298.560117</td>\n",
       "    </tr>\n",
       "  </tbody>\n",
       "</table>\n",
       "</div>"
      ],
      "text/plain": [
       "                 N            P            K  temperature     humidity  \\\n",
       "count  2200.000000  2200.000000  2200.000000  2200.000000  2200.000000   \n",
       "mean     50.551818    53.362727    48.149091    25.616244    71.481779   \n",
       "std      36.917334    32.985883    50.647931     5.063749    22.263812   \n",
       "min       0.000000     5.000000     5.000000     8.825675    14.258040   \n",
       "25%      21.000000    28.000000    20.000000    22.769375    60.261953   \n",
       "50%      37.000000    51.000000    32.000000    25.598693    80.473146   \n",
       "75%      84.250000    68.000000    49.000000    28.561654    89.948771   \n",
       "max     140.000000   145.000000   205.000000    43.675493    99.981876   \n",
       "\n",
       "                ph     rainfall  \n",
       "count  2200.000000  2200.000000  \n",
       "mean      6.469480   103.463655  \n",
       "std       0.773938    54.958389  \n",
       "min       3.504752    20.211267  \n",
       "25%       5.971693    64.551686  \n",
       "50%       6.425045    94.867624  \n",
       "75%       6.923643   124.267508  \n",
       "max       9.935091   298.560117  "
      ]
     },
     "execution_count": 20,
     "metadata": {},
     "output_type": "execute_result"
    }
   ],
   "source": [
    "data.describe()"
   ]
  },
  {
   "cell_type": "code",
   "execution_count": 21,
   "metadata": {},
   "outputs": [
    {
     "data": {
      "text/plain": [
       "rice           100\n",
       "maize          100\n",
       "jute           100\n",
       "cotton         100\n",
       "coconut        100\n",
       "papaya         100\n",
       "orange         100\n",
       "apple          100\n",
       "muskmelon      100\n",
       "watermelon     100\n",
       "grapes         100\n",
       "mango          100\n",
       "banana         100\n",
       "pomegranate    100\n",
       "lentil         100\n",
       "blackgram      100\n",
       "mungbean       100\n",
       "mothbeans      100\n",
       "pigeonpeas     100\n",
       "kidneybeans    100\n",
       "chickpea       100\n",
       "coffee         100\n",
       "Name: label, dtype: int64"
      ]
     },
     "execution_count": 21,
     "metadata": {},
     "output_type": "execute_result"
    }
   ],
   "source": [
    "data['label'].value_counts()"
   ]
  },
  {
   "cell_type": "code",
   "execution_count": 22,
   "metadata": {},
   "outputs": [
    {
     "name": "stdout",
     "output_type": "stream",
     "text": [
      "Average Ratio of Nitrogen in the soil:50.55\n",
      "Average Ratio of Phosphorus in the soil:53.36\n",
      "Average Ratio of Potassium in the soil:48.15\n",
      "Average temperture in Celsius:25.62\n",
      "Average humidity in the soil:71.48\n",
      "Average PH Value Phosphorus in the soil:6.47\n",
      "Average rainfall in the soil:103.46\n"
     ]
    }
   ],
   "source": [
    "print(\"Average Ratio of Nitrogen in the soil:{0:.2f}\".format(data['N'].mean()))\n",
    "print(\"Average Ratio of Phosphorus in the soil:{0:.2f}\".format(data['P'].mean()))\n",
    "print(\"Average Ratio of Potassium in the soil:{0:.2f}\".format(data['K'].mean()))\n",
    "print(\"Average temperture in Celsius:{0:.2f}\".format(data['temperature'].mean()))\n",
    "print(\"Average humidity in the soil:{0:.2f}\".format(data['humidity'].mean()))\n",
    "print(\"Average PH Value Phosphorus in the soil:{0:.2f}\".format(data['ph'].mean()))\n",
    "print(\"Average rainfall in the soil:{0:.2f}\".format(data['rainfall'].mean()))"
   ]
  },
  {
   "cell_type": "code",
   "execution_count": 35,
   "metadata": {},
   "outputs": [
    {
     "data": {
      "application/vnd.jupyter.widget-view+json": {
       "model_id": "0201e92956664a8097ae04023e92328e",
       "version_major": 2,
       "version_minor": 0
      },
      "text/plain": [
       "interactive(children=(Dropdown(description='crops', options=('rice', 'maize', 'jute', 'cotton', 'coconut', 'pa…"
      ]
     },
     "metadata": {},
     "output_type": "display_data"
    }
   ],
   "source": [
    "@interact\n",
    "def summary(crops = list(data['label'].value_counts().index)):\n",
    "    x = data[data['label'] == crops]\n",
    "    print(\"-------------------------------------------------------\")\n",
    "    print(\"stastistics for Nitrogen\")\n",
    "    print(\"Minimum Nitrogen required :\", x['N'].min())\n",
    "    print(\"Average Nitrogen required :\", x['N'].mean())\n",
    "    print(\"Maximum Nitrogen required :\", x['N'].max())\n",
    "    print(\"-------------------------------------------------------\")\n",
    "    print(\"stastistics for Phosphorus\")\n",
    "    print(\"Minimum Phosphorus required :\", x['P'].min())\n",
    "    print(\"Average Phosphorus required :\", x['P'].mean())\n",
    "    print(\"Maximum Phosphorus required :\", x['P'].max())\n",
    "    print(\"-------------------------------------------------------\")\n",
    "    print(\"stastistics for Patassium\")\n",
    "    print(\"Minimum Patassium required :\", x['K'].min())\n",
    "    print(\"Average Patassium required :\", x['K'].mean())\n",
    "    print(\"Maximum Patassium required :\", x['K'].max())\n",
    "    print(\"-------------------------------------------------------\")\n",
    "    print(\"stastistics for Temperture\")\n",
    "    print(\"Minimum Temperture required : {0:.2f}\".format(x['temperature'].min()))\n",
    "    print(\"Average Temperture required : {0:.2f}\".format(x['temperature'].mean()))\n",
    "    print(\"Maximum Temperture required : {0:.2f}\".format(x['temperature'].max()))\n",
    "    print(\"-------------------------------------------------------\")\n",
    "    print(\"stastistics for Humidity\")\n",
    "    print(\"Minimum Humidity required : {0:.2f}\".format(x['humidity'].min()))\n",
    "    print(\"Average Humidity required : {0:.2f}\".format(x['humidity'].mean()))\n",
    "    print(\"Maximum Humidity required : {0:.2f}\".format(x['humidity'].max()))\n",
    "    print(\"-------------------------------------------------------\")\n",
    "    print(\"stastistics for PH Value\")\n",
    "    print(\"Minimum PH Value required : {0:.2f}\".format(x['ph'].min()))\n",
    "    print(\"Average PH Value required : {0:.2f}\".format(x['ph'].mean()))\n",
    "    print(\"Maximum PH Value required : {0:.2f}\".format(x['ph'].max()))\n",
    "    print(\"-------------------------------------------------------\")\n",
    "    print(\"stastistics for Humidity\")\n",
    "    print(\"Minimum rainfall required : {0:.2f}\".format(x['rainfall'].min()))\n",
    "    print(\"Average rainfall required : {0:.2f}\".format(x['rainfall'].mean()))\n",
    "    print(\"Maximum rainfall required : {0:.2f}\".format(x['rainfall'].max()))"
   ]
  },
  {
   "cell_type": "code",
   "execution_count": 24,
   "metadata": {},
   "outputs": [
    {
     "data": {
      "application/vnd.jupyter.widget-view+json": {
       "model_id": "ffb271d6beae4c70b18cddecef1b52f4",
       "version_major": 2,
       "version_minor": 0
      },
      "text/plain": [
       "interactive(children=(Dropdown(description='conditions', options=('N', 'P', 'K', 'temperature', 'humidity', 'p…"
      ]
     },
     "metadata": {},
     "output_type": "display_data"
    }
   ],
   "source": [
    "@interact     \n",
    "def compare(conditions = ['N', 'P', 'K', 'temperature', 'humidity', 'ph', 'rainfall']):\n",
    "    print(\"Average value for\",conditions,\"is {0:.2f}\".format(data[conditions].mean()))\n",
    "    print(\"-----------------------------------------------------------------\")\n",
    "    print(\"Rice:{0:.2f}\".format(data[(data['label'] =='rice')][conditions].mean()))\n",
    "    print(\"Black grams:{0:.2f}\".format(data[(data['label'] =='blackgram')][conditions].mean()))\n",
    "    print(\"Banana:{0:.2f}\".format(data[(data['label'] =='banana')][conditions].mean()))\n",
    "    print(\"Jute:{0:.2f}\".format(data[(data['label'] =='jute')][conditions].mean()))\n",
    "    print(\"Apple :{0:.2f}\".format(data[(data['label'] =='apple')][conditions].mean()))\n",
    "    print(\"Papaya:{0:.2f}\".format(data[(data['label'] =='papaya')][conditions].mean()))\n",
    "    print(\"Muskmelon:{0:.2f}\".format(data[(data['label'] =='muskmelon')][conditions].mean()))\n",
    "    print(\"Grapes:{0:.2f}\".format(data[(data['label'] =='grapes')][conditions].mean()))\n",
    "    print(\"Watermelon:{0:.2f}\".format(data[(data['label'] =='watermelon')][conditions].mean()))\n",
    "    print(\"Kidney Beans:{0:.2f}\".format(data[(data['label'] =='kidneybeans')][conditions].mean()))\n",
    "    print(\"Mung Beans:{0:.2f}\".format(data[(data['label'] =='mungbean')][conditions].mean()))\n",
    "    print(\"Oranges:{0:.2f}\".format(data[(data['label'] =='orange')][conditions].mean()))\n",
    "    print(\"Chick Peas:{0:.2f}\".format(data[(data['label'] =='chickpea')][conditions].mean()))\n",
    "    print(\"Lentils:{0:.2f}\".format(data[(data['label'] =='lentil')][conditions].mean()))\n",
    "    print(\"Cotton:{0:.2f}\".format(data[(data['label'] =='cotton')][conditions].mean()))\n",
    "    print(\"Maize:{0:.2f}\".format(data[(data['label'] =='maize')][conditions].mean()))\n",
    "    print(\"Moth Beans:{0:.2f}\".format(data[(data['label'] =='mothbeans')][conditions].mean()))\n",
    "    print(\"Pigeon Peas:{0:.2f}\".format(data[(data['label'] =='pigeonpeas')][conditions].mean()))\n",
    "    print(\"Mango:{0:.2f}\".format(data[(data['label'] =='mango')][conditions].mean()))\n",
    "    print(\"Pomegranate:{0:.2f}\".format(data[(data['label'] =='pomegranate')][conditions].mean()))\n",
    "    print(\"coffee:{0:.2f}\".format(data[(data['label'] =='coffee')][conditions].mean()))"
   ]
  },
  {
   "cell_type": "code",
   "execution_count": 25,
   "metadata": {},
   "outputs": [
    {
     "data": {
      "application/vnd.jupyter.widget-view+json": {
       "model_id": "23063acdbdba4862a6ac8babaf790b15",
       "version_major": 2,
       "version_minor": 0
      },
      "text/plain": [
       "interactive(children=(Dropdown(description='conditions', options=('N', 'P', 'K', 'temperature', 'humidity', 'p…"
      ]
     },
     "metadata": {},
     "output_type": "display_data"
    }
   ],
   "source": [
    "# Checking the below and above Average condtiotons\n",
    "@interact\n",
    "def compare(conditions =['N', 'P', 'K', 'temperature', 'humidity', 'ph', 'rainfall']):\n",
    "    print(\"Crops that reqiure greater than average\",conditions,'\\n')\n",
    "    print(data[data[conditions] > data[conditions].mean()]['label'].unique())\n",
    "    print(\"--------------------------------------------------------------------\") \n",
    "    print(\"Crops that reqiure less than average\",conditions,'\\n')\n",
    "    print(data[data[conditions] < data[conditions].mean()]['label'].unique())                     \n",
    "                         "
   ]
  },
  {
   "cell_type": "code",
   "execution_count": 26,
   "metadata": {},
   "outputs": [
    {
     "name": "stderr",
     "output_type": "stream",
     "text": [
      "C:\\Users\\asane\\anaconda3\\lib\\site-packages\\seaborn\\_decorators.py:36: FutureWarning: Pass the following variable as a keyword arg: x. From version 0.12, the only valid positional argument will be `data`, and passing other arguments without an explicit keyword will result in an error or misinterpretation.\n",
      "  warnings.warn(\n"
     ]
    },
    {
     "data": {
      "image/png": "iVBORw0KGgoAAAANSUhEUgAAAZkAAAEmCAYAAACwOe1uAAAAOXRFWHRTb2Z0d2FyZQBNYXRwbG90bGliIHZlcnNpb24zLjMuMiwgaHR0cHM6Ly9tYXRwbG90bGliLm9yZy8vihELAAAACXBIWXMAAAsTAAALEwEAmpwYAABZbElEQVR4nO2de3xU1bX4vwsSngF5hwgWRKlSq1cRpQ+vYhG11HeRQn1A0VpttWr1Vqy/+mirpZdq9WptfQM+ELAqyLUiorHXZ0WK9YEIYhRjBJIQIAnkuX5/7D3DyWQmmSQzmZlkfT+f+cyZffbeZ5119py1n2uLqmIYhmEYyaBLqgUwDMMwOi5mZAzDMIykYUbGMAzDSBpmZAzDMIykYUbGMAzDSBpmZAzDMIykkRZGRkTyRSRlc6lFZJ6IqIiMDISN9GHzUiWXlyOluomFiJwoIq+JyHavp6dTLVMq8TrIb+drpmXZiAcRKRCRglTLkWyiPSMRmeDLy40tzCsjdZYwI+OVFvxUicg2EVkjIveLyHdFpGuirhdx7YxUPkQ3cOmOl3UpsD/wEHAT8HiKZdpPROq8Lm9JpSyppLUvsEzBP+c5IvK2r+DUiMhWEXlBRC4XkX1SLWNryeRKQ1NkJSHPm/x3V6AfcAhwHnABsFpEzlHVjyLSnA/0SoIs8XItMAcoTKEMsUi1bqJxAtADuEpVH0u1MJ4LcZUmBX4kIteram07Xn8MUNmO1+t0iMiFwF1Ad+AdYCGwHRgIHAPcDvwaGJQiEePln7jyUtzCdBOTIEvSSbiRUdUbI8NEJBe4EzgbeEFExqnq1kCazxItR0tQ1SKgKJUyxCLVuonBvv77i5RK4fEt5FnATuBR4BLgNODJ9pJBVT9sr2t1RkTkh8B9OKPyfVX93yhxvg38ub1laymqWgm0uLyo6sdJECf5qGpCPrgapDZxvgvwko93e8S5/Mi0gAAzgNeAbcAeYDOwAviBjzMhdN0on3kRsuUDQ4H7cS2WOmCmPz/PxxkZSDMylA9wMPA0UApUAK8AJ0a5xxt9mglRzoXzi9RZlE9BU7oJ6PNi4C2g3Mv1Fu4F2yXG88nH1fLuxRnVKuB94EdxPuOm9D0hEG80sMDruRpnjBYAo5vSGfBD4E1/PwXxyOTzOMXncS/wdX/89ybiC3A58IEvV4W4GvI+QEHktYGZPs+ZwMlejzuCzyWk3yjX6uqf06s+zW5gI64cjg7Ea1QGo+j9xqb+N4E8Yj4fWlhGI/IdBVwG/NvfR74/3w24FHgW+NSXq1LgBeC7MZ5BIz038bz6ACVehkb/u4i43aOETQSe8zLtAT7C9VzsEyVuvr9OFvArYIO/n83AH4BuMa47DXjb62Ur8DCuMtbgGUV7ngG9R/vkB9JF1RmuZTfbP5dKXGXr/4CpTT1jf/w4rkW1B1gNnBIlTTfg58AanJGv9LIsBU5o7vklo7ssKqpaLyK/wyl4uohcqf4OYnAzrhvrE2Ax7g+aBxyFaxEtwt3oTcAVPs3tgfRrI/IbALyBe4E9CdQDW+IQfX/gdeA94B4vww+Av4vID1V1URx5xOIm4AzgP4A7gDIfXhY9egMexr2UN+NeWAqcCdyN6zo4J0qafriXXTXwBK7LawrwoIjUq+r8Zq5Z4GWeABwHzPdhoXOIyFG4l0sfYBnuRX6wl+d0EZmoqquj5H0VMAl4BlcZaUnf+kX+e56qvicia4ATRWSEqn4aJf6fccb4C5xhqsa1fI4GsoGaGNeZgjMyfwf+ivuTxkREugH/i+te3Aw8hnsBjMQ9q1dwL7FE8bT/ngG8jHvBhShIQP53AP+Ju6dncRU1cP+tO3AVwpW4SmEecCrwrIj8WFXvb8N1p/hrvKGqzzcVUVWrgr9F5CfAX3CVsCU4AzABuAY4VUS+raplUbJ6DHevf8c9s8nAL4EhwI8irnElcBvuf7vAf5+E08eOOO6vDPe/mgmMYO+QAzTz3HwZW4H7P36IK9u9cDpbJCKHq+qvoiQdgeu224R7lwzAvdeWisgJqvpSIO48YDruHbgAZ0j3xb1nTsb932MTb20xjtpGky2ZgMWt8XH3j1Uj82ElwOdAryj5DGpJrYi9tYIFQFaU8/OI3ZJRYG5E/HH+PrYDfQPhN9L6WuLIGLJH0810n2YNkBMI742rjSjwwxg6uB/oGgj/GlALfNCCZx31PnEthHX+3DkR537gwz8k0NIK5FUBHNGKcjfMy78+EHaZz/O3UeL/pz+3HugXCO8G/IOIlqQ/N9OH1wMnN1HG8iPCbvHhy4ioYeP+C4PjKQfE2ZJpKm6Cymghgf9txL0MjxK+D+7FVAr0bMl/NiLuA/76v2th2RiBa4XsBA6OOHe3z/PeaDrFtUoGRPy3NuIM69AInYVabsH3Rxfgb0R5L7bkeTanM1xFXHFGPysQPsTHV+BbUZ6xAjdE5HVSKK+IZ1iPe690jSLTwOaeQ7tOYVZXyyjxPwfHkaSGvbWlYD4tHTADV1u9Wls+GLwD+E3E9Vfj+v774Wqk7c0s/z1bVcsDclXgamjgBsIjqQR+oap1gTQf4Fo3Y0SkTxvl+hau1fK6qj4aPKGuxfcKcBCuBhTJvar6r1Zc8wJcl9S8QNhjuOc9K8qMxhn++2YN1GBVtRr3h22Kpar6XDxC+ev+FFfru1gjatiqWqWq2+LJK434b1X9JDLQ38vnUcJ3AA8C/XE9EK0lz383ukYznIurPNyljcfMrgN2AeeJSPcoaa9R1dLQD//fehRnPMYF4p3jr3GnqhYE4tcD/4V7QSeTWTjD8Ivgu03dmPdv/c9o74JPgd8FA1R1BfAZrkUfDsZVHquIci+qWhIZFkkq1smI/26qqwzcAx0JvC8ivxeRk9s4PbFAA5MNWsAaVd0VJTzffx/RepFazVjcA8+Pcu5lnGGOJtcGVd0ZJXyz/+6XALkAXoxxPhQeTbZ/tvRiItIF9yerx7VSgXDBX45r0n8vIlno2q9EyfINXKsoFi2R8WBcLfDfqpoWEyQSQMz7F5FD/HT8TSKyO7SUAbjVRxnWhuvG+86IJGZ5VNXtwL9wXcYHR0kbrUs39D/pH+UaL0e5xqZAmoTjK4UHAl9EMaLQ9P9tbbCyGWAzgfvz74tncBXItSJyvYgcLyJxz3htVyMjIj1wfX/g+m2b4krcWEsFblDr70CxiCwVkQNbcfkvW5EGYo/bhPJri+FrLfsApb723QBfmykmulxlMfILvVjbuo4pdM1YM/VC4f2inGvN8zkJ1yWyUlUjp58/5L8viggPydjoufo/XVM1s5bI2M9/p+O0+NYS9f5F5Bu4SSc/xHVD3oOrRd+EGxwG16XWWkJGengL07W6PGr0cZpo/5OY5cnT2vdOPLTl/1YWI00tje3CD3DPsqf/fhEoEZGH/czhJmnvlswxuFkbW4JNy2ioap2q3qGq/wHkAt8HnsIN0D4Xo4nbZJatkBd/7WgM9d/Bgb1QczLahIp+rbx+NHYAA0QkO/KEiGThZpBFa7Ekm5AuhsY4nxcRL0hrnk/IgJwUuRgYV/sCOFlE9gukCeml0XP1XVwDm7heS2Qs89/x1uDbq+y05Tqx7v//4V5AJ6rqd1X1ClW9Xt1yhjdbJWVDQq3Olq4TaUt5bOk1mntPJIP2uD9Udbeq3qiqXwW+guuGfMV/P9Fc+nYzMr5r4zr/s0UL+FR1q6o+qapTcVb0ANxU1RB1tL0WHouxMcYqJvjv4DjCdv+9H40ZFyUM9o45tUT+f+Ge3bFRzh3r81rTgvwSRUgXE2KcD4W3WTYRGYqburwTNzAc7fMqThezAklDMkYbF/oGiVs79iHO0BwmIvs2ExdaV3ai0Vx5StR1ghyIa1nnRzl3XCvzDPIEbmD9myJyQlMRIyqfMcujiPQDDsdN3V3XBtlCZbnRfYrIKKLrORZ1Pl1c7wLfjf8xMExERkeJcnyEjG1GVTf78daTcDMjjxGRpipm7WNkRGQIbj72BNzAUpNuP0Sku4hMFBGJCM9mb3dbcHV1CTBYRHomTOi97ANcHyHHONyA3w5c6ypEqM/6R75FEYq/X2QeAULdM19pgUwP+u/fB/tG/fEc//OBFuSXKF7FdZccIyJTgif872NxaxSijYe0lFk4g/Coql4Y7cPeWWEX+EoO7B27uS44xuengibMHY3versbV8P/a2TLW0S6iUhw8kuo7Pw4It6huDU98dJceWpNGW2OAlzL+rBgoIhcgHsZtQn/Mv25/7lIRKLm6bvtXg8EPYKbPHRZlC723wJ9gUciJ2W0kEcD1xgZkKULMJeWvWNb+y4QYG7QOInIIJz3g1CcViEig0VkfJRTvXHLFGpxk2xikvB1MgGfSV3Y61bmGNwMjH/iprY2NzusJ27udYGIvImbCdEDt45iDLBMVYO1j1W42SvPicg/cDMh3lHVZ2g7/wAu9Ip+lb3rZLoAPwkOpKvqm/76xwL/FJEXcc3oU3Fz2aPValbhZqHcJyJP4NbxlKnqXbEEUtXHROR0YCpuYsTTuJfpGbh1PYsjZ3e1B6qqIjIDt1ZikYgsxdXoD/Ky7QLO9zNvWo2vfFzgf8Zcf6GqG0XkZVzl5rvA/6rqyyJyL66r7X0R+RvuJXEqrtLwBYmbEXQTMN7n/ZGILMfpYD/gRNxzn+fjLsXVDKeLyHBcN9NXgNP9ualxXnM9bhxomohU4yp1Cjysqp+2sow2x+04Y/KKiITWtI3D/e+fwK3ZaBOq+qivRN6F+5+vxa1D2Y7r4vwmbr1ZcSBNgYhcgVs7ssbLtg3X6vgmrmxeQxvw15iNm+DwLxFZhLv/k3Dvv38Dh8XOoQGrcGsAnxSRZ3EzEz9V1YebSPNHXNk+HXjHp+vl8xmCmxHYlkrdMOANEVmHaxFtxhnnU3DddP8TY2LUXpqb4xzvh8YrVatwD/xtnDuIk4myEl2jzA/HLYj7JW6w/zNck3YbbvbPxUSsusVZ1b/gpjjWEjHXnxirsQPn5xF7ncw8nGFbyt7Vrq8CJ8XIq5+/361eB+/hXmgjI+UKpPkFrsleRcQ6jUjdBMK74KbIrvYyVXpd/yyanpvSQbT7b+ZZ30iMtRb+/EG4BV5FuBd4Ea5WeVBL84qR/ySfZk0ccX/o4y6N0N2VuJdMFc6w/BnXat2Fm3kTzGOmz2NmM+W/kX5xFblLcRWskGeGDbhFoAdGxN0Pt8i4FPeCeQs4ixauq8BVuFbhXnb1kfptaRmNp3zgXjpveP2VAc/jDFlU3dGCdTJRdPQH3AuvzJevbbgFvFcQWLcWSHOil2e7v9+NwH8TWCfVnE6bKwe4tWtr2PuueoQ4V/wHwrviWtOb2LueMD9wPqrOcBXwX/nnuNs/g1eA6VHiRn3Gse7fl5XrccMUhV5/RT7edECae2biMzKMTo/v1/4IeFxVp6daHsPoCKTFfjKG0Z6IyNDAGE0orBd73RI91SiRYRitot18lxlGGnEFbuwjH9f0H4qbHjsc10W7JGWSGUYHw4yM0RlZiRskPhE3W7EW1032PzgP4daHbBgJwsZkDMMwjKRhYzKGYRhG0jAjYxiGYSQNMzKGYRhG0jAjYxiGYSQNMzKGYRhG0jAjYxiGYSQNMzKGYbQbIrKfiLwkIutE5H0RudyHDxCRlSKywX/3D6S5VkQ2isj6WB6YjfTF1skYhtFuiEgekKeqa/w+TW/jPHTPxO1JM8d7Ne6vqteIyNeAhbh95/fFeWf/qkbfOthIQxJuZETkZOAOnEfR+1V1TsR58ecn4zwHz1TVNf5cAc6DaB1Qq6pNbqI0aNAgHTlyZPh3RUUFvXv3Tti9tIZ0k+Htt98uVtXBzSSJyqBBg3Tw4MEpv5/Wkuxn0Vbdjhw5Mi3KSyrZuHEjQ4YM4dNPP+Xggw8mOzubmpoa1q9fT1VVVTFwG4Cq/h5ARFbgvBe/HivPyPdCMkjX5xavXG0puy0loW5l/KY5f8a5Yv8ceEtElqnqB4Fo3wVG+894nIv+4KY4x2vz+80AMHLkSFavXh3+nZ+fz4QJE9p0D20l3WQQkU9bm8/IkSP54x//mPL7aS3JfhZt1e3q1avTorykioKCAo499lhWr17NvvvuyzvvvBM+179/f6qqqj7F72cSSPY5Uba0FpGL8Ntx5+bm8sc//jGpspeXl5OTk5PUa7SGeOU6/vjjW112W0qifZcdDWxU1U0AIvI4bjOdoJE5HVjg/UO9ISL9RCRPVYsSLIuRAdTV1bFp06bw71GjRtG1a7J20k5vVJXS0lIABgwYQMTGsB2K8vJyvv/973P77bfTt2/fpqJGU0Kj7hdVvRe3Rw/jxo3TZBvupioHqkpxsasnDxo0qF2fYzpWWhJtZIbhdk4L8TkNWymx4gzDecNV4HkRUeAeX3AaEFljyc/PD58rLy9v8DsVmAwtY9OmTRQ8OYWRuT0o2LIHznqC0aOjbVfe8SktLWXy5IdRVR599BQOPPDADmloampq+P73v88555zDWWedBTijWlRURF5eHkVFRQwZMoSysjJw74fgbp3DcZvMpS3FxcXcf7/bsPXCCy9k8OB26ZVKWxJtZOKpdTQV59uq+oWIDAFWisiHqvqPBhGbqLGkgxU3GVrOyNwejB7eK9VipAXZ2TnU1JQzZcqjvPjiZQwcODDVIiUUVeWCCy5gzJgx/OIXvwiHf+tb32L+/PnMnj2b+fPnc/rppzN37lyAZcBjInIbbuB/NG6X0bQmHbvSUkWipzDHU+uIGUdVQ99bcRtHHZ1g+QwjI8jKSr9B5UTw6quv8vDDD/Piiy9y+OGHc/jhh/Pss88yffp0Vq5cyejRo1m5ciWzZ88GQFXfBxbjutyfA35mM8syi0S3ZN4CRovI/rj9oKfh9lgPsgy41I/XjAd2qGqRiPTG7U2/yx+fCPwmwfIZhpFCjjnmGKLNaM3Pz2fVqlVR06jqzcDNSRYt4aRybCadSKiRUdVaEbkUWIGbwvygqr4vIhf7838FnsVNX96Im8L8I588F3jKP4gs4DFVfS6R8hmGYbQX5eXlLFmyhOzs7E49NpPwnTFV9VmcIQmG/TVwrMDPoqTbhNut0DAMo0OQk5NDdnZ2qsVIKeZWxjAMw0gaZmQMwzCMpGFGJgPZvHkzxx9/PGPGjOGQQw7hjjvuANw6i0mTJnHuuecyadIktm/fHk5jTgYNw0gFCR+TMZJPVlYWt956K2PHjmXXrl0ceeSRTJo0iXnz5jFx4kSuu+463njjDebMcW7jvJPBacAheCeDImJOBg2jHQjNMuusM8ysJZOB5OXlMXbsWAD69OnDmDFjKCwsZOnSpcyYMQOAGTNm8PTTT4eSnA48rqpVqvoJbmafrUFKY0IuZkpKSqJO+TXSk5BBCT6z8vJyHnzwQT788EO2bdvW6Z6nGZkMp6CggH/961+MHz+eLVu2kJeXBzhDtHXr1lC0WK58jDSlrq6SadOWMnnyw2F/Zkb6U1xczD333ENtbW2DcBFhyZIl3H///WEj1FkMjnWXZTCJdjIIjX3DJdsPWlVVFfT5EYW7u1DVpx42baKwsDAheWeSD7doZGX17vTTXzOFUAumuLiYXr2iu0jKyckhKysrHO/hhx/myiuv7PDrZ8zIZCjRnAzm5uZSVOScWbfWyWCkb7icnJxW+0GLx8Pyhg0b4NXrGT28FxtKKuGwRxLmIDPTfLgZmUvIKWZ5eXmjVkyQ0ALNqqoqunfv3o4Spg7rLstAYjkZPO2005g/fz5A2MmgZxkwTUS6e5c/7eJkMORhmVfPpeDJKQ0MjmF0NHJycuLaMCzeeB0Fa8lkICEng4ceeiiHH344ALfccguzZ89m6tSp3HXXXRx00EEsWbKEuXPn4l37hJwM1tKOTgZb4mG5rl7ZXFAQ/t2Z95YxjI6CGZkMJJaTQYBVq1ZF7SbKBCeDm7dWsefzn0Nh306/t4xhdBSsuyzFvPrqq3GFdRZG5HZn9PBejMzt0ea83n333UZhnVm3icbKrhEPZmRSzGWXXRZXWDpSV1fHhg0bwp+6uvRa23nnnXc2CssU3WYCmVx2jfbDustSxOuvv85rr73Gtm3buO2228LhO3fuTLuXdSzaa+vk4Cy1eMZpQrotKyvLWN2mMx2h7BrthxmZFFFdXR2e7rhr165weN++fXniiSdSKFnLaI+tk8Oz1CAuQxbSbV1dXat0u3nzZs4//3y+/PJLunTpwkUXXcTll19OaWkpP/jBDygoKGDkyJHg9kwCnG844AKgDvi5qq5o8Y1mCB2l7BrtgxmZFHHcccdx3HHHMXPmTEaMGJFqcdpMcGZYMmaFtWSMJqTbgw46iGnTprX4Ws35hps9ezZz5szhhRdeGAqdzzdcRyu7RnIxI5NiqqqquOiiiygoKGiwiOvFF19MoVQtJzQzrGBNt7SZFVZTU9Mq3ebl5YXd80T6hgt5EJgxYwbXXnttf58k7BsO+EREQr7hXk/0PaUTHaXsGsnFjEyKOfvss7n44ou58MILM35NyIjc7vRMo1XMN954I1dffXWbdNuUbzj2/n+GAW8EkkX1DRfpsic/P7+B65u6ujrOO68fqn2pr8+lS5csRIS1a9dGlb+uri6lZeaCCy7gtNNO48wzz6RLl71ziFrjyifTXQAZsTEjk2KysrK45JJLUi1G2hHsfisoKGAEikR1wRabrl27tkm3ifYNF+myZ8KECQ3WNJWUlHDDDU9RU1POnj1l9OiRS3Z2NkuXHs/AgQMb5FVSUsKJJ/6F55+/pNG59qJfv3786U9/Skhe5gKo42JGJsWceuqp3H333Zx55pkNfBkNGDAghVI1JB4fZM3m0cLV/MGFmYXv7yD3wB4tbiV961vfarVum/INl5eXF/IRF+ojits3XCLJykqta5JMKLtG6km4kRGRk4E7cDNv7lfVORHnxZ+fDFQCM1V1TTxpOyIhX2Nz584Nh4lIWvn5SsRU5aDR+LhoNwXjbmXkyJHhVko0QgszC77c0yq5V6xYwcsvv9xi3TbnG2727Nmh51bmTy0DHhOR23AD/+3iGy7VtKbszpo1i+XLlzNkyBDee+89wO3oevXVV7Njxw5GjhzJ4sWL6d+/fyi/TjNrr6OSUCMjIl2BPwOTcLW7t0Rkmap+EIj2XdyfcDQwHvgLMD7OtB2OTz75JNUixEUipioHjcae1xu2UiDxtfKFCxe2qgumOd9wDzzwAF/5ylcAioCU+oZLJa0puzNnzuTSSy/l/PPPD4fNmTOHsWPHcu+99zJnzhzmzJnDH/7wB4AedKJZex2VRLdkjgY2quomABF5HDfzJmgoTgcWqHO+9YaI9BORPGBkHGk7HAsWLIgaHvwTdkTa2kqJhxUrVvDZZ581Cm9Ot835hgshIuGXXSb4hks0rSm7xx57LAWBblOApUuXcssttwBu1t6ECRNCRqYf8Od0nrUX3EemM2xA1hoSbWSi7cA4Po44w+JMG3WGToh0mKHSUhkCWyRTXV3NmjVrGD16dKim3C4ydFTWr19PeXk5AHv27GHVqlWMHTs24wy4qlJSUgK48Y502Sf+rbfeCh+3Rb9btmwJT16I2NG1G2m+o2twH5lUTcBIdxJtZOKZZRMrTqtn6IRIhxkqLZUhMu6OHTs477zz2nQf6aCHdODnP/95Az2EdJtpbN++nXPP/V8Ann32vLR5mUX6hmsn/ca1o2uyK1mhilxtbS0HHHAA9fX1iAiqSl1dHVlZWahqk2GqyjvvvENWVuJew+lYwUy0kYlnlk2sON3iSNvh6dWrl9stMk2JNrU4U0h33TZFdnZOozBVpbS0NG1aN63Vb25ubrilFtrR1VNNK3d0TXYlK1SR27ZtG48//ji7du2iR48e7Nmzh7KyMoYOHcqePXuaDKupqeGEE05I6PbL6VjBTLSReQsY7XdfLMQN2v0wIs4y4FI/5jIe2KGqRSKyLY60HY5TTz01/IKoq6tj3bp1TJ06NcVSxSba1OJkDNongl/96lcMGjQIyAzdtpTa2kqmTHmUF1+8LCWtm0SV3dNOO40VK1bw/e9/P3JH1zLcjq6datZeRyOhRkZVa0XkUmAFbhryg37mzcX+/F+BZ3HTlzfipjD/qKm0iZQvHbn66qvDx1lZWYwYMYLhw4c3my7WVNAf/OAHrFu3jjFjxrB48eJw/EROBW2PQftEMHXqVI444gigZbrNJFK5VqY1ZXf69Onk5+dTXFzM8OHDuemmm5g9ezaTJk0Kj0UuWbIkFH0P8BRpNGsvNNBvxE/C18mo6rM4QxIM+2vgWIGfxZu2o3PcccexZcuW8CBqvOtPYk0FnThxItdddx1vvPEGc+a4ZUadzYFjiMMPP5yDDz64xbo14qM1ZXfhwoVRw2+77bao3TzpNmuvuLiY22+/neOPPz7VomQMtmlZilm8eDFHH300S5YsYfHixYwfPz4ud+nHHntso5XVS5cuZcaMGYCbChqYuRZ24Kiqn+BakUcn8DbSkpdeeqlVujXio7VlN9Pp3TsxrcdQq2jbtm0devqzuZVJMTfffDNvvfVWeLBz27ZtnHDCCUyZMqXFeYUcOK5fvz5yKmhcDhyh8Syd8vJyt4K7z48o3N2FPSNrKcyC0t1ZUY9FulDz4Yds2rSJ6upqusWZLp7jLtIFNm2isLAwLn0sWLCA22+/Pbx6/KyzzuKqq64Kj9MYbSORZbczUllZyZIlS8jOzubCCy9M6ASAdMKMTIqpr68PzqZh4MCB1NfXJ/oycU0Ph8azdHJychg2bBi8ej2jh/di5ful5PYXDjugf9TjLduVmupqRn2lL6++v4OxB/aIGbelxz27d4fDHom720tEOPPMM8O/6+vr+fWvf512s28ylXYqu2lBshZd5uTkkJ2dnbD80hEzMinm5JNP5qSTTmL69OkALFq0iMmTJ7cqr5ADR9g7FbSsrAza2YFjukwMOProoxOmW6MxiSy76U5w0WW3bt2AvYanI3d1JQIzMili48aNbNmyhblz5/Lkk0/yyiuvoKp885vf5JxzzmlVniEHjt/4xjfCU0G988JO5cAxpNuLL76Y0tLShOg2Vagq27dvDx+XlJQ0CEsFySi7mUBOTg6qSnV1NbW1tXz44Yfcc889bfLO0RkwI5MirrjiirC/prPOOivsTn716tVcccUVPPPMM02mjzUVdOrUqdx1110cdNBBLFmyhLlz53Y6B44h3ZaWlrZKt+lEbW0FP/rRE+Tk7A9UceaZ99OjxxBUq6irqyUrq/03iWtr2c10Kisr2b59O//3f/8XbtUYsTEjkyIKCgo47LDDGoWPGzeukQPBaMSaCrpq1aqoq37TbSpoMgnpNtK9Rry6TTeysno1OHZrY7KoqytLiTxtLbsdgS5dutC7d+9Qd7TRBDaFOUXs2RN7vGL37t3tKEnHw3SbXBKt35BvLxvb6JiYkUkRRx11FPfdd1+j8AceeIAjjzwyBRJ1HBKp27q6OjZs2BD+1NV12F7GuEl02S0tLeWjj7ZSWlqaCPGMNMO6y1LE7bffzplnnsmjjz4a/mOuXr2a6upqnnrqqRRLl9mEdFtZWcnEiROB1us2EbuCdjSSUXbdnoXph+0X03bMyKSI3NxcXnvtNV566aWw77Hvfe97fOc730mxZOlL0AM0wKhRo+jatfHLKaTbP/3pT2E36m3RbSJ2Be1IdKay2x77xQT9oQ0aNCgtPGonEjMyKeb44483P0hxEvQAHU+r4ogjjrCFl0mks5Td0NTlZFFeXt6hV/6bkTEyitBCT8MR2lMG0mvXTKNldOSV/zbwbxgZTF1dJdOmLWXy5IczcuA8aCQ7Ox3Vg4AZGcOIIDijrKCgAE3z3T+zsnpH3TkzEygtLWXKlIc63Iu1NZSXl/PQQw91uP1qrLvM6NTU1dU5L9OeUaNGNZhRlu67f3YEunZNz+7PVLQsQtsIdKTJAGZkjE5NtCnKsHdGWaqdfBqpo7i4uN19kwWnTD/11FOISMZPBjAjY3R6Qgalrl7DblFGtGMXWUlJCYB1GaUhidqgLF5Ce8xUVVUxcOBAsrKyKC4uzujWjI3JGIZn89Yq9rz+cwqfv4w9VdXtcs26ujomT36Y7353QYNuu0QR9NycToTkskH/xuTk5ISNW0cYp7GWjJGRxLsws6WMyO1Oj27t+0LOzs6hpqY84G05cZSWljJp0t0sWjSNAQMGpM0059LSUiZPfpiamgrq6mpTLU5a096tqUSTsJaMiAwQkZUissF/948R72QRWS8iG0VkdiD8RhEpFJG1/tMxdz8yEkKo1cGr51Lw5JSktALam6C35cQiaTnNOTs7h+zszH6BtgehcZpt27alXYs0HhLZXTYbWKWqo4FV/ncDxDko+jPwXeBrwHQR+Vogyp9U9XD/eTaBshkdkNDCzP0Gd6egoMCcWDZBJk9z7uyExmnuv//+jOw2S2R32enABH88H8gHromIczSwUVU3AYjI4z7dBwmUw+hktNTdTGcgtMgxnVou6UKoZRA5mB45ZTmdxrJycnLCkwAg/mnN6TAVOpFGJldViwBUtUhEhkSJMwzYHPj9OTA+8PtSETkfWA1cpaqN9pgVkYuAi8A56gtuTFVeXt5oo6r2Jp1lEJGTgTuArsD9qjqnnUVLGi1xNxNcG1NQUJCQmWTpptvIMY/s7L2GJ13GZVpCW/QbzXg8/PDDXHnllQwaNCj8ElZVHnjgAcrLy+nevTtVVVXU1qbPeFHIx1lWVhZnnHEGgwYNihoveL/FxcU8/fTTKZ0K3SIjIyIvAEOjnLou3iyihIX+4X8Bfut//xa4FZjVKLLqvcC9AOPGjdOgA8RoO0K2N+kqQ6CrchLOuL8lIstUtdO1IhO92DJddRvqHgvtoFlbW8GUKY/y4ouXJc2jcDJoi35VlQ8//JCnnnqKioqKsPHo1q1bo/UoZ5xxRtgZZo8ePcjKykq7nS9zcnLYs2cPd999N0OGDKGqqip8T9XV1UycOLHB/e7YsYNRo0al1C9ai4yMqp4Q65yIbBGRPN+KyQO2Ron2ObBf4Pdw4Auf95ZAXvcBy1sim9EsbeqqLNjiFiUWllSxp1ro2b0y6nHJLm3yfFuO48m7YMse8LPOqqqq2LBhQ+N7idgi+NMtVXFdp2DLHkYmQbc1NeXU1FRQW1tJbW0FqlVxH4MzHpDVoGustLQ0ar6hc6kmUj7V+qait1q/xcXF/OlPf2L48OGNwh966CGqq6sZMGAA2dnZlJaWUl5eTkVFBbW1tVRVVVFZWUl5eXm4VRMKq6+vp6KiIub5ZIdFY/fu3ZSUlPDcc88xYMCAcHh5eXlKjYwkqs9RROYCJao6x88aG6Cqv4yIkwV8BEwECoG3gB+q6vshA+XjXQmMV9VpzVxzG/BpIGgQkOqRsXSTYYSqDhaRKcDJqnohgIich9PxpcGEwe5I4CCghNTfT2tJ9rNoq27Xt4OMmUI0PcSt3xi6bW9504F45Rqhqu3Sd5bIMZk5wGIRuQD4DDgbQET2xfWhTlbVWhG5FFiB61t9UFXf9+n/W0QOx3WXFQA/ae6CkUoSkdWqOi5B99Mq0liGproq9wYEuiObyCsjaEfZW6VbyGz9JpJm9NCsfqPpNpmk63NLR7kSZmRUtQTXQokM/wKYHPj9LNBoerKqnpcoWYyoxOyqNNqM6Ta5mH4zGHMr03l4CxgtIvuLSDdgGrAsxTJ1FEy3ycX0m8F0NLcy7dZcboK0lKGZrsoW5ZVBtIvsbdAtZLZ+E0lMPbRRv8kiXZ9b2smVsIF/wzAMw4jEussMwzCMpGFGxjAMw0gaGWVkUunpOVaegfMiIv/jz/9bRMbGm7adZCgQkXf9fa9u67VSjYg8KCJbReS9QFjM8iEi1/p7WS8iJ6VG6r2ku34TiYjsJyIvicg6EXlfRC734Wn/vFojezvL11VE/iUiy9NJrgaoasZ8gP8GZvvj2cAfosTpCnwMjAK6Ae8AX/PnbgSubsV1Y+YZiDMZ+DtuTv83gDfjTZtsGfy5AmBQoq6V6g9wLDAWeK+58oHz+P0O0B3Y399b1xTKnvb6TfD95gFj/XEf3ILsr2XC82qp7CmQ7xfAY8By/zst5Ap+Mqolg3MlMd8fzwfOiBIn7IJCVauBkAuKthBPnqcDC9TxBtBPnHudRMnTFhmSca2Uoqr/ACL9o8QqH6cDj6tqlap+AmzE3WOqSHv9JhJVLVLVNf54F7AO5yw37Z9XK2RvN0RkOPA94P5AcMrliiTTjEwDT89AvJ6ehwV+X+q7kh5sQVOyuTybihNP2mTLAG6F9PMi8rY4FxxtvVY6Eqt8pNv9pJs87YaIjASOAN4kc54XELfs7cntwC+BoOO3dJCrAWlnZETkBRF5L8on3ppec56eDwAOB4pwnp7bmmdzceJyOZJkGQC+rapjcRvG/UxEjm3jtTKJdLufdJOnXRCRHOBvwBWqurOpqFHCUqqfFsjeXvKcAmxV1bdTLUtzpN1iTE1PT8/xuLWIFadbHGmTLQPq3PugqltF5Clc98M/2nCtdCRW+Ui3+0k3eZKOiGTjXtKPquqTPjgjnlcLZW8vvg2c5icv9QD6isgjaSBXI9KuJdMMy4AZ/ngGsDRKnJguKCLGJ84E3ouSPhrxuLVYBpzvZ3h9A9jhm6uJconRahlEpLeI9AEQkd7AiTR975nqxiNW+VgGTBOR7iKyPzAa+GcK5AuRqfptFSIiwAPAOlW9LXAq7Z9XK2RvF1T1WlUdrqojceXnRVU9N9VyRSXVMw9a8gEGAquADf57gA/fF3g2EG8ybhbIx8B1gfCHgXeBf+MeRl4Lrt0oT+Bi4GJ/LLiNlT721xjXnDytuP9WyYCbxfSO/7wfjwyJkjmJZWEhrsuzBlfzvSBW+fDxr/P3sh74bhrIn9b6TfC9HoPr7vo3sNZ/JmfC82qN7CmQcQJ7Z5eljVyhj7mVMQzDMJJGpnWXGYZhGBmEGRnDMAwjaZiRMQzDMJKGGRnDMAwjaZiRMQzDMJKGGZkAIlIuIqNSLUemICL5InJhO1+zQERiLtg1koeI/F1EZjQf0zD20qmMjH9BbfELEkNhF4pIPoCq5qjqJh8+T0R+lyJR0wqvt93eCG8RkYe8mw0jCbRG3+1h8FX1u6o6v/mYqcHrK/SpD+iwXETOSbV8raEjVKo6lZHxZAGXtzUTEUk7lzxJ5lRVzcG51z8K+H8plqdNZMDz61D6bg98JTHH6+0zvA7959FUyxdJe5TBdCjnndHIzAWuFpF+kSdEREXkQO+l+Bzgl74W9Iw/XyAi14jIv4EKEckSkdPEbWZU5muTYwL5jRW3odAuEVkiIouCrSMROUXcJmJlIvKaiBwWOFcgIleL8xi9w6ftkUS9xIWqFuL2rPm6DxohIq/6e3xeRAaF4jajm2vEbSC3S9zGVBN9+I0i8oS/310iskZE/iNCjMNj6UVEfixus6tSEVkmIvsGzqmI/ExENgAbRGSkD8sKxAm3CHxZeNlfp1hEFiVQlXER0PehIrJcRLaJyHZ/PNzLeTPwn8Bdvrze5cPvEJHNIrJTnPft/wzc59Eistqf2yIit/nwHiLyiIiU+Of2lojk+nNB3dwozldWKL8GuvRxf+fLdbmIPCMiA0XkUX/Nt8R5NU46ItJFRGaLyMf+vhaLyIAIuX/kdbVdRC4WkaN8GSsL6dPHn+nL+52+XHwYKrv+/D4i8oCIFPny/TsR6RqR9k8iUgrcKCIHiMiLXq5ir59+Pv7DwFeAZ7wOfykiE0Tk84j7C7d2Av+fR0RkJzCzKZnahVS7HGhn9wsFwAnAk8DvfNiFQL4/VuBAfzwvFCci/Vqc876ewFeBCmASkI1zu70R5xSzG/AprtWUDZwFVAeuOxbnvG48bhOrGT7/7oFr/RPnMmcAbh+Li1OpN3+8H841zW+BfJzrj696feQDc3y8pnRzEM6V+74+7kjgAH98I85VzBSf7mrgEyC7Ob0A3wGKvW67A3cC/wjchwIrfbqe/roKZAXi5AMX+uOFOPcmXXBOCI9Job7vBL4P9MJtnrUEeDqa3IGwc3FuRrKAq4AvgR7+3OvAef44B/iGP/4J8Iy/TlfgSKBvFN3cCDwSuFYDXfq4G3Fez/cBPsC50TnBy7MAeKiddHgF8AbO0WZ34B5gYYTcf/XP+ERgD/A0zk3+MNz/9DgffyZQC1yJK58/AHaw18XV0z7/3j79P4GfRKS9zOugJ3Ag7j/SHRiMc1p7e7T78L8nAJ83ca834v4/Z+DKbc+mZGqPT2dsyQBcD1wmIoNbkfZ/VHWzqu7GFbD/VdWVqloD/BH3UL+F25kyy8evUee9Nejk78fAPar6pqrWqevrrvLpgtf6QlVLcX/8w1shb6J4WkTKgFeAl4FbfPhDqvqR18di9srYlG7qcH+qr4lItqoWqOrHgWu9rapP+HS34f788ejlHOBBVV2jqlXAtcA3I2rMv1fVUi9vc9QAI3DGcI+qvhJHmkQRqe9fqurfVLVS3eZZNwPHNZWBqj6iqiWqWquqt+J0fpA/XQMcKCKDVLVc3SZ3ofCBuMpWnaq+ra13bf+Qqn6sqjtwrbGPVfUFVa3FGckjWplvS/kJzj/c575c3AhMkYZdSb/1z/h5XOVooapuVdeS/L8IWbfiDEGNqi7C+Vf7nm/xfRe3HUCFqm4F/oRzYBniC1W90z+T3aq60f9HqlR1G668N/lc4+B1VX1aVeuBvnHIlFQ6pZFR1fdwbv5bs7d6cDOlfXGtlVC+9f78MH+uUH31IkraEcBVvjle5l8o+/l0Ib4MHFfiapyp4gxV7aeqI1T1p4GXdCwZY+pGVTfiapc3AltF5PFgtxYBPfl0nxOfXiKvWQ6U0HDDq+AzaI5f4pyO/lNct9+sFqRtKw30jXMIfI+IfOq7Qf6B2/k0ZreHiFwlbm/6Hb587QOEujMvwLU2P/RdV6f48IeBFcDjIvKFiPy3OFf3rWFL4Hh3lN/tVZ5HAE8F/mfrcBWd3ECclsga+b/+FFf2RuBaN0WBa91Dw43DGpQ/ERniy3+hf66PsPcZtZbI90xzMiWVTmlkPDfgWhOxdtyL5Tk0GP4F7iECYbfg+wGFOA/Bw3xYiOAeGZuBm/2LJPTppaoLW3gf6UpTukFVH1PVY3wcBf4QSLtfIF0X4t9PJPKavXG18sJAnODzq/DfvQJhQ8MRVb9U1R+r6r642vDdInJgHHIkg6twrZDxqtoXCG06FypfDcqruPGXa4CpQH9V7Yfr1hEAVd2gqtNxL5s/AE+ISG9fO79JVb+Ga3WeApwfRZ4KYugtDdmM8+Qc/K/18K2U1hD5v/4KruxtxvVGDApcp6+qHhKIG/le+b0PO8w/13NpuGlbZPwGeveVjMgemciKbXMyJZVOa2R8bXoR8PMYUbbgXOQ3xWJcM3mir+1dhXugr+H6vOtw2z1nidvZM7hP+X3AxSIyXhy9ReR74vd96QDE1I2IHCQi3xGR7rj+7904XYU4UkTO8t0ZV/h0b9A8jwE/EpHDfd63AG+qakG0yL57ohA4V0S6+pbKAaHzInK2+MF1YDvuz1vXOKd2oQ9OT2XiBq1viDgfWV774Pr/twFZInI9rusEABE5V0QG+5ZimQ+uE5HjReRQ//Laies+i3bPa4FjReQrIrIPrmsyXfkrcLOIjAAQkcES/0670RgC/FxEskXkbGAMbquRIuB54FYR6StuwsEBItJU91cfoBz3XIcB/xVxPvK5fgT08O+KbNysw+6xMm+lTAml0xoZz29wg2HReAA3ZlAmIk9Hi6Cq63E1jztxA86n4qZNVqtqNW6w/wLcn/hcXBddlU+7GteSugv3AtuIGxjsEDSlG9yfYo4P/xL3p/1VIPlS3JjOduA84Cw/PtPcNVcBv8btYliEMxjN9T3/GPfHLgEOwVUQQhwFvCki5bj9hy5X1U+akyNJ3I4b0yrGGdznIs7fgRtn2C4i/4Pr8vo77qX0Kc6YB7tRTgbe9/d2BzBNVffgWiRP4AzMOtx40CNEoKorcZW0fwNvE/8us6ngDtzze15EduH0N74N+b2J20itGDc2NkVVS/y583GTWz7Ald8ngLxomXhuwk1U2QH8L25SUpDfA//Pv4eu9uNbPwXux1WQKnDdyU3RUpkSiu0n046IyJvAX1X1oVTLkq6IyI24QedzUy2LYUQiIjNxM+yOSbUsmUJnb8kkFRE5TkSG+u6yGcBhNK6BGoZhdFhSvhq0g3MQbmwiB7eeZIrvIzUMw+gUWHeZYRiGkTSsu8wwDMNIGmZkDMMwjKRhRsYwDMNIGmZkDMMwjKRhRsYwDMNIGmZkDMMwjKRhRsYwDMNIGmZkDMMwjKRhRsYwDMNIGmZkDMMwjKRhRsYwDMNIGmZkDMMwjKRhRsYwDMNIGmZkDMMwjKRhRsYwDMNIGmZkDMMwjKRhRsYwDMNIGmZkDMMwjKRhRsYwDMNIGlmpFqAtDBo0SEeOHJmSa1dUVNC7d++UXLs5grK9/fbbxao6uDX5JEq/6ayr1hC6n3TQbSTJ1nV75t8W/RpphKom9QN0Bf4FLPe/BwArgQ3+u38g7rXARmA9cFJzeR955JGaKl566aWUXbs5grIBq7WVzy5R+k1nXbWG0P2kg25jyZYs2jP/tujXPunzaY/ussuBdYHfs4FVqjoaWOV/IyJfA6YBhwAnA3eLSNd2kM8wDMNIEkk1MiIyHPgecH8g+HRgvj+eD5wRCH9cVatU9RNci+boZMpnGIZhJJdkj8ncDvwS6BMIy1XVIgBVLRKRIT58GPBGIN7nPqwBInIRcBFAbm4u+fn5iZc6DsrLy1N2bYDdu3eHj3v27NngXKplawuqSmlpKQADBgxARFIsUfpQX19PUVERAHl5eXTpYvN2jPQnaUZGRE4Btqrq2yIyIZ4kUcK0UYDqvcC9AOPGjdMJE+LJOvHk5+eTqmu/++67TJ8+nZ49e7J7924WLlzIoYcemhaytZXS0lIWfrYQVeXk0pM58MADzdB4ioqKKDrtNPdj2TKGDWtUBzOMtCOZVaFvA6eJSAHwOPAdEXkE2CIieQD+e6uP/zmwXyD9cOCLJMqX0fTs2ZOcnJxGrZiOQE7/HESERZ8sCrdqDEde9+7kde+eajEMI26SZmRU9VpVHa6qI3ED+i+q6rnAMmCGjzYDWOqPlwHTRKS7iOwPjAb+mSz5jPSn1z69KC0tpaSkBDfZyDCMTCMV62TmAItF5ALgM+BsAFV9X0QWAx8AtcDPVLUuBfIZaULlzkqWd1lOdnk205nOwIEDUy1SRlBYWAjYuI2RHrSLkVHVfCDfH5cAE2PEuxm4uT1kMjKDnP45ZGdlp1qMjKGmpsbGbYy0IqNX/BuG0RgbszHSCWtLG4ZhGEnDjIxhGIaRNMzIGGlDaCGmNl4eZRhGhmJGxkgbSktLWfDeAmpra1MtimEYCcKMjJFW9N6nsRv5cAvH1soYRsZhRsZIeyrKKnh80+Ns3LjRFmYaRoZhU5iNjEC6CMvLbGGmYWQa1pIxMoac/jnk9M9J+nU2b97M8ccfz5gxYzjkkEO44447ADdmNGnSJM4991wmTZoEbkM+AETkWhHZKCLrReSkpAtpGBmCtWQylE8++YSdO3fStevefd1uvPFG7rvvvrDzzFtuuSV8TkSuBS4A6oCfq+qKdhc6Q8jKyuLWW29l7Nix7Nq1iyOPPJJJkyYxb948Jk6cyHXXXccbb7zBCy+8MBQabbi3L/CCiHzV3CIZhrVkMpZBgwZx2GGHNQq/8soruf/++1m7di2TJ08GbNfRlpKXl8fYsWMB6NOnD2PGjKGwsJClS5cyY4bz7eq/+/sktuGeYcTAjEyG0qdPH7Ky4m6I2kuwlRQUFPCvf/2L8ePHs2XLFvLy8gBC36EHMAzYHEgWdcM9w+iMWHdZB+Ouu+6ia9euHHfccdx6662h4Lh2HYXk7Dwa706ddXV1jKwcSdbHWWi9MrB2INkfZzc4FhHWdl3boJswWezevZvLL7+cCy+8kDVr1lBbW0t+fn60+4lrw7226rampgbOP9/9+OADNmzY0CjOnj17+KCZOG0h2buuZvKurkZ0zMh0IC655BJ+/etf8/LLL7Nq1Squuuqq0Km4XoKQnJ1H492ps6SkhPveuY+BXxlI1a4qyorLyN0/t8FxdlY2E/pMSPrsspqaGk455RQuvvhifvGLXwAwbNgwDjroINavX89BBx0EbksKiHPDvbbqtrCwEG64wf1YsiSqh+WVK1fytQULmozTFpK962om7+pqRMe6yzoQubm5dO3alS5duvDjH/+Yf/4zvOdb2u46qqppt/ZFVbngggsYM2ZM2MAAnHbaacyfPx8g9F3mT9mGe4YRAzMyHYiioqLw8VNPPcXXv/710M+0fQmWlpZy7zv3ptU2y6+++ioPP/wwL774IocffjiHH344zz77LLNnz2blypWce+65rFy5EqAI3IZ7QGjDveewDfcMI4x1l2UomzZtory8nJqaGk444QRuueUW8vPzWbt2LZWVlRxyyCHcc889LFq0KO13Hc3pl/y1Ly3hmGOOidmyWrVqVbhLR0TCOrQN9wwjOmZkMpRRo0aRk5NDeXk5Dz74IIceeigXXHABEL1fO51fgiHfZIB5YDaMDoYZGSPlVO6oZHn9cqrLq6mra7qBFTJIAwYMQCTafAbDMNIJG5Mx0oKc/jn07tfYA3MkFWUVLPpkUVqN4RiGERtryaQptbW1rFu3Lvx7zJgxLVl8mfaEWiSt2aQsHmNkGEZ60HHeWh2MdevWMX36dHr27Mnu3btZuHAhhx56aKrFShilpaUs/GwhFWUVzXaRGYaRuZiRSWNCji47KiGPymXFZakVxDCMpGFjMoZhGEbSMCNjGIZhJA3rLjOMDKe+vj7s7aGmpgYlurM6w0gF1pIxjAynqKiIotNOg7PPpraggOqqqlSLZBhh4jIyIvLteMKMlvPqq6/GFWa0nM6k27zu3RnWvTtZtkDVSDPibcncGWeY0UIuu+yyuMKMlmO6NYzU0+SYjIh8E/gWMFhEfhE41Rew7XvbwOuvv85rr73Gtm3buO2228LhO3futHUjbcR0C/WqbPHjNHl5eXTpYj3jRmpobuC/G5Dj4/UJhO8EpiRLqM5AdXU15eXl1NbWsmvXrnB43759eeKJJ9izZ084TFX56KOPwr8/+uijtNp/Jd1oTredgS3V1VTPmkVRdjYsW5bwzcsMI16aNDKq+jLwsojMU9VP20mmTsFxxx3Hcccdx8yZMxkxYkQDNzJ79uxpYEh2797NNddcQ//+/QHYvn07PXr0oE+fPjHz78xE6jZTCc4ay8vLa3H6odnZdO/ePdFiGUaLiHcKc3cRuRcYGUyjqt9JhlCdiaqqKi666CLee+89/v3vf4e7NYYMGdLAkPTo0SO8+r+ysjJl8mYSId0WFBRQW1sbDn/xxRdTKFX8hGeNASxbllphDKOVxGtklgB/Be4HOkendjtx9tlnc/HFFzNhwgR+97vf0atXL8C1Xoy2EdLthRdeSNeumTmEmGctESPDidfI1KrqX5IqSSclKyuLSy65hHfffZfevXuHWytmZNpOSLeGYaSOeKecPCMiPxWRPBEZEPokVbJOwqmnnsrdd9/Ntm3bqK2tpaamhpqammbTFRYW8uqrr/Lee++Fw0pLS5k0aRLnnnsukyZNYvv27eFzInKtiGwUkfUiclJSbibNCOm2qKgovK1AJu5DU6/qus6KimzfUCPjiLclM8N//1cgTIFRiRWn8zF//nzAzYgqLi4Oj8mMGtW0avv168cBBxzA+++/Hw6bM2cOEydO5LrrruONN95gzpw5AIjI14BpwCHAvsALIvJVVe3QXZ8h3c6dOzccJiJs2rQpVSK1itBMsTJVBnTrFh7MD00MKCoqYmiKZTSMWMRlZFR1/2QL0ln55JNPAHj33XeZNWtWuLts69atTabr3bt3o03Mli5dSn5+PuvXr2fGjBlMmDAhdOp04HFVrQI+EZGNwNHA6wm8lbQjpNuOwNDsbLpFhIUmBmytrmZAt25g4zdGGhKXkRGR86OFq+qCJtLsBywAhgL1wL2qeofvZluEm6lWAExV1e0+zbXABbjJBT9X1RVx30mGsmCBU+HmzZspLi6mvLwcoFWL57Zs2UJeXh7r168nLy8vaKiGAW8Eon7uwxohIhcBFwHk5uaSn5/fYjkiKS8vb5RPXV0dfer60LuuNwNrB5L9cTZar3Edqyprd61tdjB/xYroxeekk9rWWxjtfhJJS1ooNjHASHfi7S47KnDcA5gIrMEZkVjUAlep6hoR6QO8LSIrgZnAKlWdIyKzgdnANZ21S+ett94CoKSkhPLycr788ktycnIYMmRIIi8TzaFV1O59Vb0XuBdg3LhxGmgNtZr8/Hwi8ykpKeGZXc9Qvr2csuIycvfPpWpXVVzHNTU1TDxgIgMHDmzyun/729/Cx3v27GHVqlWMHTuW3//+9wm/n0TSqIViGBlMvN1lDRw+icg+wMPNpCkCivzxLhFZh6s9nw5M8NHmA/nANXTSLp0773Qu4N599102bNhAjx49wosyW0pubm548V5RURFDhgyhrKwMXMtlv0DU4cAXbRA7pahqeAB/wIABSAynkCHdhtixYwfnnXde0uVLBNZCMToKrd1PphIYHW9kERkJHAG8CeR6A4SqFolIqMoeV5dOMrpzWkOiu0x2797NrFmzAPjNb37DT3/6U0SErKwsampqwsdA+HdZWRmfffYZn3/+OSUlJRxxxBHccMMNnHbaadxwww0cccQRIXc0y4DHROQ2XCtxNPDPhAnfzlTurGR5l+Vkl2cznenNtmhC9OrViw0bNiRZOsMwgsQ7JvMMe7tXugJjgMVxps0B/gZcoao7Y9U6ibNLJxndOa0hUV0mp556KiLCzp07Wbt2LVVVVQwePJi7774bEWHw4MFs3bo1fAxuUsDnn3/Onj17qKmpYebMmdxyyy38+c9/ZurUqVx88cUcdNBBLFmyhEWLFqGq74vIYuADXDfmzzK9GzKnfw7ZWdlNxgnpFtwY0Lp165g6dWp7iGcYhifelswfA8e1wKeq+nlziUQkG2dgHlXVJ33wFhHJ862YPCA0Ot2hunTi5eqrrwZg06ZNfPnll/Tv358ePXo0O7tsv/32Y/DgwZSXl/Pggw9y6KGHArBq1aqoBlBVbwZuTsY9pCsh3YJbmDlixAiGDx+eQokMo/MR1xQm7yjzQ5wn5v5AdXNpxFUhHwDWqeptgVPL2LvuZgawNBA+TUS6i8j+ZHiXTrwcd9xxHHzwwVRUVFBXV2cu2RNISLe7du1i+/btdLNBdMNod+LdGXMq7oV/NjAVeFNEmnP1/23gPOA7IrLWfyYDc4BJIrIBmOR/o6rv47rgPgCeowN06cTD4sWLOfroo3n++efZvn07a9asabYVYzhCEwBibXsQ0u2SJUtYvHgx48eP7xCu/s0DgJFJxNtddh1wlKpuBRCRwcALQMx/rKq+QvRxFnBToKOl6XRdOjfffDNvvfUWW7ZsYdasWXTr1o133nkno13UtxcVZRUs2raISwZcEnXwP6Tb0HTwbdu2ccIJJzBlSmZvhRTpAcAw0pl4+2a6hAyMp6QFaY0mqK+vb7AmJju76cFsoyG9+/WOeS5StwMHDqS+vr7ZPGfNmsWQIUP4+te/Hg4L+YUbPXo0V199dcr9wg3NzmaIGRgjA4jXUDwnIitEZKaIzAT+F3g2eWJ1Hk4++WROOukkli5dSnFxMe+++y4DBpjv0UQQ0u28efOYN28e3/ve95g8eXKz6WbOnMlzzz3XICzkF27Dhg2MHTs2ll+4k4G7RSQz9xUwjCTQZHeZiByIW9fyXyJyFnAMrgvsdeDRdpAv4wjucBlizJgxjfyMbdy4kS1btjB37lyefPJJnn76aSorK+nbty+5ubkNtg02Wkakbl955RVUlW9+85ucc845zaY/9thjKSgoaBAW8gsHzi3Nr371q9CpTrmI2DDipbkxmduBXwH4KchPAojIOH/u1CTKlpGsW7eO6dOn07NnT8Atsly4cGF4inGIK664gltuuQWAs846i9GjR7Nu3Trq6+vZuHEjubm57S57RyFSt2eddRYAq1ev5oorruCZZ55pcZ4hv3Dgut0S6RcutLVDqKu0pqYGzj+fGlVKcWsG4vn+rGtXavv3Z+OFF4bDRAQ++CBhi1CT7bct2fkb7U9zRmakqv47MlBVV/tV/EYUevbsGfamHIuCggIOO+ywRuF9+/Zlz549yRKtwxHNxUws3Y4bN65RCyUBtMkvXGFhYXiL5bxlyxg2bBiFhYVwww0UVVUxAGcs4vke1bcvz06dyoH33x8O6969OyxZwrBhUe1ei0m237Zk52+0P82NyfRo4lzPRArS2WjKkNTVdfiZ2wmjcmcly8uWs/CzhWFj05RuW7vjaNAvXElJSXBCQZsXEed1726+yowOS3NG5i0R+XFkoIhcALydHJE6B0cddRT33Xdfo/CioiL69OmTAokyl5z+OeT039tyjKXbBx54gCOPPLJV1zjttNPCm6CtWLGC008/PXSqUy4iNox4aa677ArgKRE5h71GZRzQDTgziXJ1eG6//XbOPPNMHn30UY488kiKi4v58MMP6dKlC4cccgg7duxItYgZS6RuwY3HVFdX89RTTzWbfvr06eTn51NcXMzw4cO56aabmD17NlOnTuWBBx6gT58+vPDCC8ydO7dD+oUzjETSpJFR1S3At0TkeCC0aOB/VfXFpEvWwcnNzeW1117jpZde4r333qNbt27su+++7LvvvqkWLeOJ1C3A9773Pb7zne/ElX7hwoVRw1etWgW4cYPgNPPOuIjYMOIl3v1kXgJeSrIsHRJVDbnbBxpPZz7++OM5/vjjeffdd3nhhRdSIWKHJaRbwzBSR2v3kzHiZPfu3VxzzTX0798/5nRmwzCMjooZmXagR48ezU5pNgzD6IiY/zHDMAwjaVhLpgMybdo0Bg8eTNeuXcHtYoqIDAAWASOBAmCqqm6PlUemEVqUGVqQaRhGemAtmQ7KSy+9xNq1awFCjtRmA6tUdTSwyv/uMFSUVbDok0XhBZmGI7T3TGFhYVweqA0j0ZiR6TycDsz3x/OBM1InSnJoyu1/ZyW090zRaaeFPRa0lPr6egoLC527G8NoIdZd1gEREU488cRQt9EgH5yrqkUAqlokIkNipI3qxLEtRHN6WFdXR5+6PvSu683A2oFkf5yN1mubjlWVtbvWhroJk0amOXEcmp3tfJi1kqKiorB/tRq/xYFhxIsZmVZQW1vL7t27effdd8Nh0dz5p4o777yTKVOmsHXrVnJzc4eIyLHxpo3mxLGtRHN6WFJSwjO7nqF8ezllxWXk7p9L1a6qNh3X1NQw8YCJUXfJTCSd0YljyLdahxnEM9qN9HgrZhjr1q3jk08+4frrrwdiu/NPFYMGucaLd+JYhtvfZIuI5PlWTB6wNWYGhmEYCaLDGJnIzcKS3bIQkbRc+1JRUUFlZWX4GOgLvIdz5DgDmOO/l6ZIxPBMMM2O6hG/zfkCNsvMMNKEDmNkgpuFpVvLoj3ZsmULl112Gddeey21tbUAZar6nIi8BSz2HrQ/A85OlYylpaUseG8BXzn0KwnNt3JnJcu7LCdrVxYnl57MgQcemDGGpl6VLX5gvqioiKEplgfcgH9RUVFYnszQpJFudBgjA/FtFpZOBFtfH330Eaptr9mPGjWKBx54IDxmICJfAqhqCTCxzRdIEL33Sc5MsJz+OVTtqmLRJ4u4ZMAlSR+fSRShWWDk5LB11y4GdOuWMlmCxkV/8hO2VVczoFu3Nk0eMDovHcrIhIh0SgnJ7T4LXq8lxiLY+tq+fTs9evSwvWQSRCZOZx6anc2w7t0pqqpK+rVChgQgLy+PLl32rmYIzSbbWl3Nwd26ISk0eEbm0yGNTNApZeh3W7vPIlsdsa7XlLGINH4fffRR2K9ZaBzFMJJJZCtFAJYtIy8vL2x0ioqKGGqtFiNBdEgjA4l3ShnZ6vjFL34R9XpNGYtI42etF6O9iWylZHfr1sDo7Nu9e8q764yORYc1MskgNObTllZH0PhZ68VoL4ITC4KtlNBYUJkqB3fr1m7ddUbnwYyMYXQCgsYkspUyNDsba7cYycKMjGF0EsyYGKnAHGQahmEYScOMjGEYhpE0zMgYhmEYScPGZDKcaAtPU02kDzHDMDovZmSaIBluXxJNtIWnc+fOTalMpaWlLPxsIQDTdBp1dXWUlJSEF6uWlpaiJFeX5iwz8dSrUlNTQ2FhIXl5eQAxvQYYRggzMk2QKW5fEr3wNBHk9HfybN++ndJqZ3ROKj2JFeUrqCiroK6uLqnXDznLzC7PZjrTM8aHWTqzpboaLSig6Ne/hmXLAMKbmbFsGcOGDUuhdEa6YkamGRKxALOz06VrF2d0avYan7LisqRfN6d/DtlZ2Um/TmciW4Rc7yUA3MJOayMaTdEpjEzkuEU67WLZkQh1UYX3ilHXkklHQrJaV1rLiVzYmd2tW9ibAFjXmdGQTvGmDY5bdOa9ZpJNaCymoqyCAfsNoGpXFU9/9jRj+4xFVdm+fTs6JD3GtUpLS7n3nXu56D8usq60VhBc2BncpqBwzx6K7r2XvLw8MzYG0EmMDMQetwgO7vtNvsKtnHQd7E9nQt1hIXrt0wvqoaKsgqc/e5r9B+zfrvI01WLpvU9vmxyQIILbFFTPmkVRdnaDcZqmthYwOjZpZ2RE5GTgDqArcL+qzknm9SIH94EO6yW5tbqNp2spni2Ve+3TqxVSt42Ksgoe3/o405gWfq6hlkvljkqW1ydmckB7l9t0Zmh2dti7c319PeB2bNWf/ARVbdDSgYYz1IyOR1oZGRHpCvwZmAR8DrwlIstU9YNkXjc4uC8iHdJLclt0W1payj1r7+Hsr5zNgAEDohqbZG2pnAiki7C8bDnVn1dTXV3NtFHTAFCUnP45ZHXNoqSkBFVFRMJTrSG+Fk6qym06E+pCe1eVfiJhL8+lIlTPmkVhVhZF994L0GBfG6PjkVZGBjga2KiqmwBE5HHgdCBhf9ZoG4d1ki6xNum2i3RhedlysnZlcXLpyRx44IEAlJSUAK7Vl4qWSrzk9M+hKquKmuIaZ3DKq8PTqCvKKpj38TwGjxhMVtcsxn88njez30QQpuk0RCRcRmK0dpJebjOR0LjNAGjgmHNodjal0GCLAdvaueOSbkZmGLA58PtzYHy8iXfv3g1Ald8Po7y8vNHvsrIyrrjiinAX2M6dO+nRowci0mS6yOP6+vpm46XiXEgHUWiTbit2VNC9T3cqd1Ty4KYHmcUsAP76+l/pP7Q/VRVV1NXV0aNPD6rLq6mpraG6vJrKHZXU96qnoqyCyh2VlG8vD4en6ji0NXMwPETljkoeK3iMEV8fQXZWNps2bWJV+Soqd1RSW1fL1cdfnXDdFlVVsbW6mmoRugeOy1Rb9N29qopaVb6sqWlx2mAeTV1fVWOeb6ns/XwL8cuaGroB1lnWMUk3IxOtX6JBM0NELgIu8j/LRWR90qWKwmWXXTYIKE7FtZtj8uTJQdlG+O9mdQvx63cOLRpySFtdtRR/36H7SYpu28TrrydX1z/7WfLyHz4cGpaVEbEjG5lCuhmZz4H9Ar+HA18EI6jqvcC97SlUNERktaqOS7Uc0YghW7O6heToN5111Rqi3E/KdBuHbJa/kVLSbR7hW8BoEdlfRLoB0wAbDUwMptvkYbo1jBikVUtGVWtF5FJgBW4q6IOq+n6KxeoQmG6Th+nWMGKTVkYGQFWfBZ5NtRxxkPIuuyaIKlsKdZvOumoNje4njcptsnWd6fkb7Yx0kum7hmEYRgpItzEZwzAMowNhRiZORKRARN4VkbUistqHDRCRlSKywX/3bwc5HhSRrSLyXiAsphwicq2IbBSR9SJyUrLliyJvI71lEi3Vd7rJ05LnLyL7ichLIrJORN4XkcsTnH8PEfmniLzj878pkfkbaYr6BVb2afoDFACDIsL+G5jtj2cDf2gHOY4FxgLvNScH8DXgHaA7sD/wMdA11XrLpE9L9J1u8rT0+ePWQ471x32Aj3weicpfgBx/nA28CXwjncuvfdr+sZZM2zgdmO+P5wNnJPuCqvoPoDROOU4HHlfVKlX9BNiIc4FixEkL9Z1u8rTo+atqkaqu8ce7gHU4bwaJyl9Vtdz/zPYfTVT+RnpiRiZ+FHheRN72K7cBclW1CNwfFBiSItliyRHN3Ul775EbTW+ZTro89+bkafXzF5GRwBG41kbC8heRriKyFtgKrFTVhOZvpB9pN4U5jfm2qn4hIkOAlSLyYaoFioO43J0kmUZ687VxI/m06vmLSA7wN+AKVd3ZhBfqFuevqnXA4SLSD3hKRL7elCgtzd9IP6wlEyeq+oX/3go8hWu2bxGRPAD/vTVF4sWSIy53J8kkht4ynXR57s3J0+LnLyLZOAPzqKo+mej8Q6hqGZAPnJyM/I30wYxMHIhIbxHpEzoGTgTew7kOmeGjzQCWpkbCmHIsA6aJSHcR2R8YDfyzvYRqQm+ZTro89xAJef7imiwPAOtU9bYk5D/Yt2AQkZ7ACcCHicrfSFNSPfMgEz7AKNwsl3eA94HrfPhAYBWwwX8PaAdZFgJFQA2upndBU3IA1+Fm5awHvpsOesukT0v1nW7ytOT5A8fguqP+Daz1n8kJzP8w4F8+//eA6314WpZf+yTmYyv+DcMwjKRh3WWGYRhG0jAjYxiGYSQNMzKGYRhG0jAjYxiGYSQNMzKGYRhG0jAjkwRE5Fcicn8T5wtE5IR44hotQ0RURA5MtRzpiIicIyLPtyD+70SkWES+jCPuPBH5nT+eICKft0VWo+PQaYxM8MUeCJspIq8k+lqqeouqXtjSuCIy0r8kM8rdj9ftbhEpF5EtIvKQd02CiOSLyIUR8WO+hERkhYj8Jkr46SLyZabpJhlE6PtL/4LPaS6dqj6qqifGeY39gKuAr6nq0LbKbHReOo2RMZLOqaqag3NDfxTw/1qZzzzgPGnsMOs8nKuT2taL2KEI6ftwnCPLaxOc/wigRJ07IMNoNWZkPJHdLNGa/yLyS3EbRhWJyBkiMllEPhKRUhH5VSDtjSLySOD3eSLyqYiUiMh1EdcNxg05jizztdTjfN6HBuIP8bXYwcnQQ1tR1ULg70BTjg+b4mlgAPCfoQBxm1idAiwQkaNF5HURKfPP4S4R6RYto8hWVGTLVUQOFrdJVqm4TbGmtlLmlKGqXwIrcMYGEZktIh+LyC4R+UBEzgzFjXL/KiIXi9ssbLuI/FkcJwArgX19OZzn4y/xLacdIvIPETmkPe/VyEzMyMTPUKAHztX49cB9wLnAkbgX4vUiMioykYh8DfgLria+L86FxvAY1zjWf/dT1RxVfRl43F8nxHTgBVXd1uY7SgK+m2Uyzn1Ii1HV3cBi4PxA8FTgQ1V9B6gDrgQGAd8EJgI/bYWcvXEv0sdwruWnA3dn2otTRIYD38XttQLOBct/AvsANwGPiHc+GYNTcC3P/8Dp+SRVfcHn+YUvhzN93L/j/IcNAdYAjyb2boyOSGczMk/7GnCZiJQBd7cgbQ1ws6rW4F78g4A7VHWXqr6P8811WJR0U4DlqvoPVa0Cfg3Ut+C684EfikjoWZ0HPNyC9O3F016nrwAvA7cEzv1PhN6XN5PXfOBscU4UwRmc+QCq+raqvqGqtapaANwDHNcKeU8BClT1IZ/XGpz34SmtyCsVPC0iu3D7rWwFbgBQ1SWq+oWq1qvqIpw/sKY8X89R1TJV/Qx4Cd8iioaqPujLexVwI/AfIrJPYm7H6Kh0NiNzhqr2C31oWQ24RN1eGAC7/feWwPndQLTB130JbLykqhVASbwXVbepUwVwnIgcDByI806bboR0O0JVf+pbJCF+HqH3U5rKSFVfAbYBp/vW4VG4Fgci8lURWe67bXbijNmgVsg7AhgfYfzOwbVYM4EzVLUPMAE4GK8DETlfRNYG7unrNK2f4MyxSqKX4dBmY3N8V9xO3LbaNJO3YXQ6I9MUlUCvwO9EvWyKCOyJISK9cF1m0YjlrXQ+rsvsPOAJVd2TINnSmQW4Fsx5wPOqGjLof8G5hx+tqn2BXxF9cytwxjnWM90MvBw0fr5r6JKE3kWS8V2q84A/isgIXDfupcBAb9DfI7Z+WsIPcdshn4DrihvpwxORt9GBMSOzl7W4bqmuInIyreuCicYTwCkicowfoP4NsfW+DdeVFjm28zBwJs7QLEiQXOnOAtwL7cfs3f8doA+wEyj3LbumjMJa4CwR6eUndVwQOLcc+KqflJHtP0eJyJiE3kX7cDswCTdeqLhyhIj8iNZPwIikD1CFa4X3omF3qGHExIzMXi4HTgXKcN0mTyciUz9e8zNcd08RsB23D0i0uJXAzcCrvrvjGz78c9xAqwL/lwi50h0/3vIa0JuG3YNX42rVu3C19kVNZPMnoBrXrTmfwEC1qu7CbaI2Dbfb4pfAH4DuibqH9sJPAlmAW9dyK/A67p4PBV5N0GUWAJ8ChcAHwBsJytfo4Nh+MhmCiDyIm+3T2vUnhmEY7U6nXz2dCYjISOAs3KI7wzCMjMG6y9IcEfktbvB2rqp+kmp5DMMwWoJ1lxmGYRhJw1oyhmEYRtIwI2MYhmEkDTMyhmEYRtIwI2MYhmEkDTMyhmEYRtIwI2MYhmEkjf8PJ9km/BbAEn4AAAAASUVORK5CYII=\n",
      "text/plain": [
       "<Figure size 432x288 with 7 Axes>"
      ]
     },
     "metadata": {
      "needs_background": "light"
     },
     "output_type": "display_data"
    }
   ],
   "source": [
    "# Checking distribution for each crop\n",
    "plt.subplot(3,4,1)\n",
    "sns.scatterplot(data['N'],color=\"yellow\")\n",
    "plt.xlabel('Nitrogen', fontsize = 12)\n",
    "plt.grid()\n",
    "plt.subplot(3,4,2)\n",
    "sns.histplot(data['P'],color=\"orange\")\n",
    "plt.xlabel('Phosphorus', fontsize = 12)\n",
    "plt.grid()\n",
    "plt.subplot(3,4,3)\n",
    "sns.histplot(data['K'],color=\"darkblue\")\n",
    "plt.xlabel('Patassium', fontsize = 12)\n",
    "plt.grid()\n",
    "plt.subplot(3,4,4)\n",
    "sns.histplot(data['temperature'],color=\"grey\")\n",
    "plt.xlabel('Temperature', fontsize = 12)\n",
    "plt.grid()\n",
    "plt.subplot(2,4,5)\n",
    "sns.histplot(data['humidity'],color=\"black\")\n",
    "plt.xlabel('Humidity', fontsize = 12)\n",
    "plt.grid()\n",
    "plt.subplot(2,4,6)\n",
    "sns.histplot(data['ph'],color=\"lightgreen\")\n",
    "plt.xlabel('PH Value', fontsize = 12)\n",
    "plt.grid()\n",
    "plt.subplot(2,4,7)\n",
    "sns.histplot(data['rainfall'],color=\"red\")\n",
    "plt.xlabel('Rainfall', fontsize = 12)\n",
    "plt.grid()\n",
    "plt.suptitle('Distribution for Agricultural Conditions',fontsize = 20)\n",
    "plt.show()"
   ]
  },
  {
   "cell_type": "code",
   "execution_count": 27,
   "metadata": {},
   "outputs": [
    {
     "name": "stdout",
     "output_type": "stream",
     "text": [
      "Some Interesting Patterns\n",
      "Crops that require very High Ratio of Nitrogen content in Soil : ['cotton']\n",
      "Crops that require very High Ratio of Phosphorous content in Soil : ['banana' 'watermelon' 'muskmelon' 'cotton' 'coffee']\n",
      "Crops that require very High Ratio of Potassium content in Soil : []\n",
      "Crops that require very High Rainfall: []\n",
      "Crops that require very High Temperature: ['kidneybeans' 'pigeonpeas' 'mothbeans' 'mungbean' 'lentil' 'pomegranate'\n",
      " 'mango' 'grapes' 'apple' 'orange' 'coconut']\n",
      "Crops that require very Low Temperature : ['rice' 'maize' 'chickpea' 'blackgram' 'banana' 'watermelon' 'muskmelon'\n",
      " 'papaya' 'cotton' 'jute' 'coffee']\n",
      "Crops that require very Low Humidity : ['kidneybeans' 'pigeonpeas' 'mothbeans' 'mungbean' 'lentil' 'pomegranate'\n",
      " 'mango' 'grapes' 'apple' 'orange' 'coconut']\n",
      "Crops that require very Low pH : ['kidneybeans' 'pigeonpeas' 'mothbeans' 'mungbean' 'lentil' 'pomegranate'\n",
      " 'mango' 'grapes' 'apple' 'orange' 'coconut']\n",
      "Crops that require very High pH : ['rice' 'maize' 'chickpea' 'kidneybeans' 'pigeonpeas' 'mothbeans'\n",
      " 'mungbean' 'blackgram' 'lentil' 'pomegranate' 'banana' 'mango' 'grapes'\n",
      " 'watermelon' 'muskmelon' 'apple' 'orange' 'papaya' 'coconut' 'cotton'\n",
      " 'jute' 'coffee']\n"
     ]
    }
   ],
   "source": [
    "# Checking that crops those have unusual requirements\n",
    "print(\"Some Interesting Patterns\")\n",
    "print(\"Crops that require very High Ratio of Nitrogen content in Soil :\",data[data['N'] > 120]['label'].unique())\n",
    "print(\"Crops that require very High Ratio of Phosphorous content in Soil :\",data[data['N'] > 100]['label'].unique())\n",
    "print(\"Crops that require very High Ratio of Potassium content in Soil :\",data[data['N'] > 200]['label'].unique())\n",
    "print(\"Crops that require very High Rainfall:\",data[data['N'] > 200]['label'].unique())\n",
    "print(\"Crops that require very High Temperature:\",data[data['N'] < 10]['label'].unique())\n",
    "print(\"Crops that require very Low Temperature :\",data[data['N'] > 40]['label'].unique())\n",
    "print(\"Crops that require very Low Humidity :\",data[data['N'] < 20]['label'].unique())\n",
    "print(\"Crops that require very Low pH :\",data[data['N'] < 4]['label'].unique())\n",
    "print(\"Crops that require very High pH :\",data[data['N'] > 9]['label'].unique())"
   ]
  },
  {
   "cell_type": "code",
   "execution_count": 28,
   "metadata": {},
   "outputs": [
    {
     "name": "stdout",
     "output_type": "stream",
     "text": [
      "Summer Crops\n",
      "['pigeonpeas' 'mothbeans' 'blackgram' 'mango' 'grapes' 'orange' 'papaya']\n",
      "-------------------------------------------------------------------\n",
      "Winter Crops\n",
      "['maize' 'pigeonpeas' 'lentil' 'pomegranate' 'grapes' 'orange']\n",
      "-------------------------------------------------------------------\n",
      "Monsoon Crops\n",
      "['rice' 'papaya' 'coconut']\n",
      "-------------------------------------------------------------------\n"
     ]
    }
   ],
   "source": [
    "# Checking which crop to grow accounding to the season\n",
    "print(\"Summer Crops\")\n",
    "print(data[(data['temperature'] > 30) & (data['humidity'] > 50)]['label'].unique())\n",
    "print(\"-------------------------------------------------------------------\")\n",
    "print(\"Winter Crops\")\n",
    "print(data[(data['temperature'] < 20) & (data['humidity'] > 30)]['label'].unique())\n",
    "print(\"-------------------------------------------------------------------\")\n",
    "print(\"Monsoon Crops\")\n",
    "print(data[(data['rainfall'] > 200) & (data['humidity'] > 30)]['label'].unique())\n",
    "print(\"-------------------------------------------------------------------\")"
   ]
  },
  {
   "cell_type": "code",
   "execution_count": 42,
   "metadata": {},
   "outputs": [
    {
     "name": "stdout",
     "output_type": "stream",
     "text": [
      "(2200, 7)\n"
     ]
    },
    {
     "ename": "ValueError",
     "evalue": "init should be either 'k-means++', 'random', a ndarray or a callable, got 'KMeans++' instead.",
     "output_type": "error",
     "traceback": [
      "\u001b[1;31m---------------------------------------------------------------------------\u001b[0m",
      "\u001b[1;31mValueError\u001b[0m                                Traceback (most recent call last)",
      "\u001b[1;32m<ipython-input-42-5399afcae6d1>\u001b[0m in \u001b[0;36m<module>\u001b[1;34m\u001b[0m\n\u001b[0;32m     12\u001b[0m \u001b[1;32mfor\u001b[0m \u001b[0mi\u001b[0m \u001b[1;32min\u001b[0m \u001b[0mrange\u001b[0m\u001b[1;33m(\u001b[0m\u001b[1;36m1\u001b[0m\u001b[1;33m,\u001b[0m\u001b[1;36m11\u001b[0m\u001b[1;33m)\u001b[0m\u001b[1;33m:\u001b[0m\u001b[1;33m\u001b[0m\u001b[1;33m\u001b[0m\u001b[0m\n\u001b[0;32m     13\u001b[0m     \u001b[0mkm\u001b[0m \u001b[1;33m=\u001b[0m \u001b[0mKMeans\u001b[0m\u001b[1;33m(\u001b[0m\u001b[0mn_clusters\u001b[0m \u001b[1;33m=\u001b[0m \u001b[0mi\u001b[0m\u001b[1;33m,\u001b[0m \u001b[0minit\u001b[0m \u001b[1;33m=\u001b[0m \u001b[1;34m'KMeans++'\u001b[0m\u001b[1;33m,\u001b[0m\u001b[0mmax_iter\u001b[0m \u001b[1;33m=\u001b[0m \u001b[1;36m20000\u001b[0m\u001b[1;33m,\u001b[0m \u001b[0mn_init\u001b[0m \u001b[1;33m=\u001b[0m \u001b[1;36m11\u001b[0m\u001b[1;33m,\u001b[0m \u001b[0mrandom_state\u001b[0m \u001b[1;33m=\u001b[0m \u001b[1;36m0\u001b[0m\u001b[1;33m)\u001b[0m\u001b[1;33m\u001b[0m\u001b[1;33m\u001b[0m\u001b[0m\n\u001b[1;32m---> 14\u001b[1;33m     \u001b[0mkm\u001b[0m\u001b[1;33m.\u001b[0m\u001b[0mfit\u001b[0m\u001b[1;33m(\u001b[0m\u001b[0mx\u001b[0m\u001b[1;33m)\u001b[0m\u001b[1;33m\u001b[0m\u001b[1;33m\u001b[0m\u001b[0m\n\u001b[0m\u001b[0;32m     15\u001b[0m     \u001b[0mwcss\u001b[0m\u001b[1;33m.\u001b[0m\u001b[0mappend\u001b[0m\u001b[1;33m(\u001b[0m\u001b[0mkm\u001b[0m\u001b[1;33m.\u001b[0m\u001b[0minertia_\u001b[0m\u001b[1;33m)\u001b[0m\u001b[1;33m\u001b[0m\u001b[1;33m\u001b[0m\u001b[0m\n\u001b[0;32m     16\u001b[0m     \u001b[1;31m#Plottingthe results\u001b[0m\u001b[1;33m\u001b[0m\u001b[1;33m\u001b[0m\u001b[1;33m\u001b[0m\u001b[0m\n",
      "\u001b[1;32m~\\anaconda3\\lib\\site-packages\\sklearn\\cluster\\_kmeans.py\u001b[0m in \u001b[0;36mfit\u001b[1;34m(self, X, y, sample_weight)\u001b[0m\n\u001b[0;32m   1033\u001b[0m                                 accept_large_sparse=False)\n\u001b[0;32m   1034\u001b[0m \u001b[1;33m\u001b[0m\u001b[0m\n\u001b[1;32m-> 1035\u001b[1;33m         \u001b[0mself\u001b[0m\u001b[1;33m.\u001b[0m\u001b[0m_check_params\u001b[0m\u001b[1;33m(\u001b[0m\u001b[0mX\u001b[0m\u001b[1;33m)\u001b[0m\u001b[1;33m\u001b[0m\u001b[1;33m\u001b[0m\u001b[0m\n\u001b[0m\u001b[0;32m   1036\u001b[0m         \u001b[0mrandom_state\u001b[0m \u001b[1;33m=\u001b[0m \u001b[0mcheck_random_state\u001b[0m\u001b[1;33m(\u001b[0m\u001b[0mself\u001b[0m\u001b[1;33m.\u001b[0m\u001b[0mrandom_state\u001b[0m\u001b[1;33m)\u001b[0m\u001b[1;33m\u001b[0m\u001b[1;33m\u001b[0m\u001b[0m\n\u001b[0;32m   1037\u001b[0m \u001b[1;33m\u001b[0m\u001b[0m\n",
      "\u001b[1;32m~\\anaconda3\\lib\\site-packages\\sklearn\\cluster\\_kmeans.py\u001b[0m in \u001b[0;36m_check_params\u001b[1;34m(self, X)\u001b[0m\n\u001b[0;32m    979\u001b[0m                 or (isinstance(self.init, str)\n\u001b[0;32m    980\u001b[0m                     and self.init in [\"k-means++\", \"random\"])):\n\u001b[1;32m--> 981\u001b[1;33m             raise ValueError(\n\u001b[0m\u001b[0;32m    982\u001b[0m                 \u001b[1;34mf\"init should be either 'k-means++', 'random', a ndarray or a \"\u001b[0m\u001b[1;33m\u001b[0m\u001b[1;33m\u001b[0m\u001b[0m\n\u001b[0;32m    983\u001b[0m                 f\"callable, got '{self.init}' instead.\")\n",
      "\u001b[1;31mValueError\u001b[0m: init should be either 'k-means++', 'random', a ndarray or a callable, got 'KMeans++' instead."
     ]
    }
   ],
   "source": [
    "from sklearn.cluster import KMeans\n",
    "# removing the labels column\n",
    "x = data.drop(['label'],axis=1)\n",
    "# selectinmg all the values of data\n",
    "x = x.values\n",
    "#checking the shape\n",
    "print(x.shape)\n",
    "# Determining the optimum number of clusters within the datasets\n",
    "import matplotlib.pyplot as plt\n",
    "plt.rcParams['figure.figsize'] = (10,4)\n",
    "wcss = []\n",
    "for i in range(1,11):\n",
    "    km = KMeans(n_clusters = i, init = 'KMeans++',max_iter = 20000, n_init = 11, random_state = 0)\n",
    "    km.fit(x)\n",
    "    wcss.append(km.inertia_)\n",
    "    #Plottingthe results\n",
    "    plt.plot(range(1,10),wcss)\n",
    "    plt.title('Elbow Method', fontsize = 20)\n",
    "    plt.xlabel('No of Clusters')\n",
    "    plt.ylabel('wcss')\n",
    "    plt.show()"
   ]
  },
  {
   "cell_type": "code",
   "execution_count": null,
   "metadata": {},
   "outputs": [],
   "source": []
  },
  {
   "cell_type": "code",
   "execution_count": 43,
   "metadata": {},
   "outputs": [
    {
     "name": "stdout",
     "output_type": "stream",
     "text": [
      "Lets Check the results after applying K Means Clustering Analysis \n",
      "\n",
      "Crops in First Cluster: ['maize' 'chickpea' 'kidneybeans' 'pigeonpeas' 'mothbeans' 'mungbean'\n",
      " 'blackgram' 'lentil' 'pomegranate' 'mango' 'orange' 'papaya' 'coconut']\n",
      "...........................................\n",
      "Crops in Second Cluster: ['rice' 'pigeonpeas' 'papaya' 'coconut' 'jute' 'coffee']\n",
      "...........................................\n",
      "Crops in Third Cluster: ['grapes' 'apple']\n",
      "...........................................\n",
      "Crops in Fourth Cluster: ['maize' 'banana' 'watermelon' 'muskmelon' 'papaya' 'cotton' 'coffee']\n"
     ]
    }
   ],
   "source": [
    "\n",
    "#Implementation of K Means algorithm to perform Clustering analysis\n",
    "\n",
    "km = KMeans(n_clusters = 4, init = 'k-means++',  max_iter = 40000, n_init = 100, random_state = 0)\n",
    "y_means = km.fit_predict(x)\n",
    "\n",
    "#Finding the results\n",
    "a = data['label']\n",
    "y_means = pd.DataFrame(y_means)\n",
    "z = pd.concat([y_means, a], axis = 1)\n",
    "z = z.rename(columns = {0: 'cluster'})\n",
    "\n",
    "#Checking the clusters for each crop\n",
    "print(\"Lets Check the results after applying K Means Clustering Analysis \\n\")\n",
    "print(\"Crops in First Cluster:\", z[z['cluster'] == 0]['label'].unique())\n",
    "print(\"...........................................\")\n",
    "print(\"Crops in Second Cluster:\", z[z['cluster'] == 1]['label'].unique())\n",
    "print(\"...........................................\")\n",
    "print(\"Crops in Third Cluster:\", z[z['cluster'] == 2]['label'].unique())\n",
    "print(\"...........................................\")\n",
    "print(\"Crops in Fourth Cluster:\", z[z['cluster'] == 3]['label'].unique())"
   ]
  },
  {
   "cell_type": "code",
   "execution_count": 44,
   "metadata": {},
   "outputs": [
    {
     "name": "stdout",
     "output_type": "stream",
     "text": [
      "Shape of x: (2200, 7)\n",
      "Shape of y: (2200,)\n"
     ]
    }
   ],
   "source": [
    "#Splitting the Dataset for predictive modelling\n",
    "\n",
    "y = data['label']\n",
    "x = data.drop(['label'], axis=1)\n",
    "\n",
    "print(\"Shape of x:\", x.shape)\n",
    "print(\"Shape of y:\", y.shape)\n"
   ]
  },
  {
   "cell_type": "code",
   "execution_count": 45,
   "metadata": {},
   "outputs": [
    {
     "name": "stdout",
     "output_type": "stream",
     "text": [
      "The Shape Of x train: (1760, 7)\n",
      "The Shape Of x test: (440, 7)\n",
      "The Shape Of y train: (1760,)\n",
      "The Shape Of y test: (440,)\n"
     ]
    }
   ],
   "source": [
    "#Creating training and testing sets for results validation\n",
    "from sklearn.model_selection import train_test_split\n",
    "\n",
    "x_train, x_test, y_train, y_test = train_test_split(x, y, test_size = 0.2, random_state = 0)\n",
    "\n",
    "print(\"The Shape Of x train:\", x_train.shape)\n",
    "print(\"The Shape Of x test:\", x_test.shape)\n",
    "print(\"The Shape Of y train:\", y_train.shape)\n",
    "print(\"The Shape Of y test:\", y_test.shape)"
   ]
  },
  {
   "cell_type": "code",
   "execution_count": 46,
   "metadata": {},
   "outputs": [
    {
     "name": "stderr",
     "output_type": "stream",
     "text": [
      "C:\\Users\\asane\\anaconda3\\lib\\site-packages\\sklearn\\linear_model\\_logistic.py:762: ConvergenceWarning: lbfgs failed to converge (status=1):\n",
      "STOP: TOTAL NO. of ITERATIONS REACHED LIMIT.\n",
      "\n",
      "Increase the number of iterations (max_iter) or scale the data as shown in:\n",
      "    https://scikit-learn.org/stable/modules/preprocessing.html\n",
      "Please also refer to the documentation for alternative solver options:\n",
      "    https://scikit-learn.org/stable/modules/linear_model.html#logistic-regression\n",
      "  n_iter_i = _check_optimize_result(\n"
     ]
    }
   ],
   "source": [
    "\n",
    "#Creating a Predictive Model\n",
    "\n",
    "from sklearn.linear_model import LogisticRegression\n",
    "model=LogisticRegression(max_iter=4000)\n",
    "model.fit(x_train, y_train)\n",
    "y_pred = model.predict(x_test)"
   ]
  },
  {
   "cell_type": "code",
   "execution_count": 47,
   "metadata": {},
   "outputs": [
    {
     "data": {
      "image/png": "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\n",
      "text/plain": [
       "<Figure size 720x720 with 2 Axes>"
      ]
     },
     "metadata": {
      "needs_background": "light"
     },
     "output_type": "display_data"
    }
   ],
   "source": [
    "#Evaluating the model performance\n",
    "from sklearn.metrics import confusion_matrix\n",
    "#Printing the Confusing Matrix\n",
    "plt.rcParams['figure.figsize'] = (10,10)\n",
    "cm = confusion_matrix(y_test, y_pred)\n",
    "sns.heatmap(cm, annot = True, cmap = 'Wistia')\n",
    "plt.title('Confusion Matrix For Logistic Regression', fontsize = 15)\n",
    "plt.show()"
   ]
  },
  {
   "cell_type": "code",
   "execution_count": 48,
   "metadata": {},
   "outputs": [
    {
     "name": "stdout",
     "output_type": "stream",
     "text": [
      "              precision    recall  f1-score   support\n",
      "\n",
      "       apple       1.00      1.00      1.00        18\n",
      "      banana       1.00      1.00      1.00        18\n",
      "   blackgram       1.00      0.95      0.98        22\n",
      "    chickpea       1.00      1.00      1.00        23\n",
      "     coconut       1.00      1.00      1.00        15\n",
      "      coffee       1.00      1.00      1.00        17\n",
      "      cotton       1.00      1.00      1.00        16\n",
      "      grapes       1.00      1.00      1.00        18\n",
      "        jute       0.87      0.95      0.91        21\n",
      " kidneybeans       1.00      1.00      1.00        20\n",
      "      lentil       0.94      1.00      0.97        17\n",
      "       maize       0.95      1.00      0.97        18\n",
      "       mango       1.00      1.00      1.00        21\n",
      "   mothbeans       1.00      0.96      0.98        25\n",
      "    mungbean       1.00      1.00      1.00        17\n",
      "   muskmelon       1.00      1.00      1.00        23\n",
      "      orange       1.00      1.00      1.00        23\n",
      "      papaya       1.00      1.00      1.00        21\n",
      "  pigeonpeas       1.00      1.00      1.00        22\n",
      " pomegranate       1.00      1.00      1.00        23\n",
      "        rice       0.96      0.88      0.92        25\n",
      "  watermelon       1.00      1.00      1.00        17\n",
      "\n",
      "    accuracy                           0.99       440\n",
      "   macro avg       0.99      0.99      0.99       440\n",
      "weighted avg       0.99      0.99      0.99       440\n",
      "\n"
     ]
    }
   ],
   "source": [
    "#Defining the classification Report\n",
    "from sklearn.metrics import classification_report\n",
    "\n",
    "#Printing the Classification Report\n",
    "cr = classification_report(y_test, y_pred)\n",
    "print(cr)"
   ]
  },
  {
   "cell_type": "code",
   "execution_count": 49,
   "metadata": {},
   "outputs": [
    {
     "data": {
      "text/html": [
       "<div>\n",
       "<style scoped>\n",
       "    .dataframe tbody tr th:only-of-type {\n",
       "        vertical-align: middle;\n",
       "    }\n",
       "\n",
       "    .dataframe tbody tr th {\n",
       "        vertical-align: top;\n",
       "    }\n",
       "\n",
       "    .dataframe thead th {\n",
       "        text-align: right;\n",
       "    }\n",
       "</style>\n",
       "<table border=\"1\" class=\"dataframe\">\n",
       "  <thead>\n",
       "    <tr style=\"text-align: right;\">\n",
       "      <th></th>\n",
       "      <th>N</th>\n",
       "      <th>P</th>\n",
       "      <th>K</th>\n",
       "      <th>temperature</th>\n",
       "      <th>humidity</th>\n",
       "      <th>ph</th>\n",
       "      <th>rainfall</th>\n",
       "      <th>label</th>\n",
       "    </tr>\n",
       "  </thead>\n",
       "  <tbody>\n",
       "    <tr>\n",
       "      <th>0</th>\n",
       "      <td>90</td>\n",
       "      <td>42</td>\n",
       "      <td>43</td>\n",
       "      <td>20.879744</td>\n",
       "      <td>82.002744</td>\n",
       "      <td>6.502985</td>\n",
       "      <td>202.935536</td>\n",
       "      <td>rice</td>\n",
       "    </tr>\n",
       "    <tr>\n",
       "      <th>1</th>\n",
       "      <td>85</td>\n",
       "      <td>58</td>\n",
       "      <td>41</td>\n",
       "      <td>21.770462</td>\n",
       "      <td>80.319644</td>\n",
       "      <td>7.038096</td>\n",
       "      <td>226.655537</td>\n",
       "      <td>rice</td>\n",
       "    </tr>\n",
       "    <tr>\n",
       "      <th>2</th>\n",
       "      <td>60</td>\n",
       "      <td>55</td>\n",
       "      <td>44</td>\n",
       "      <td>23.004459</td>\n",
       "      <td>82.320763</td>\n",
       "      <td>7.840207</td>\n",
       "      <td>263.964248</td>\n",
       "      <td>rice</td>\n",
       "    </tr>\n",
       "    <tr>\n",
       "      <th>3</th>\n",
       "      <td>74</td>\n",
       "      <td>35</td>\n",
       "      <td>40</td>\n",
       "      <td>26.491096</td>\n",
       "      <td>80.158363</td>\n",
       "      <td>6.980401</td>\n",
       "      <td>242.864034</td>\n",
       "      <td>rice</td>\n",
       "    </tr>\n",
       "    <tr>\n",
       "      <th>4</th>\n",
       "      <td>78</td>\n",
       "      <td>42</td>\n",
       "      <td>42</td>\n",
       "      <td>20.130175</td>\n",
       "      <td>81.604873</td>\n",
       "      <td>7.628473</td>\n",
       "      <td>262.717340</td>\n",
       "      <td>rice</td>\n",
       "    </tr>\n",
       "  </tbody>\n",
       "</table>\n",
       "</div>"
      ],
      "text/plain": [
       "    N   P   K  temperature   humidity        ph    rainfall label\n",
       "0  90  42  43    20.879744  82.002744  6.502985  202.935536  rice\n",
       "1  85  58  41    21.770462  80.319644  7.038096  226.655537  rice\n",
       "2  60  55  44    23.004459  82.320763  7.840207  263.964248  rice\n",
       "3  74  35  40    26.491096  80.158363  6.980401  242.864034  rice\n",
       "4  78  42  42    20.130175  81.604873  7.628473  262.717340  rice"
      ]
     },
     "execution_count": 49,
     "metadata": {},
     "output_type": "execute_result"
    }
   ],
   "source": [
    "#head of dataset\n",
    "data.head()"
   ]
  },
  {
   "cell_type": "code",
   "execution_count": 50,
   "metadata": {},
   "outputs": [
    {
     "name": "stdout",
     "output_type": "stream",
     "text": [
      "The Suggested Crop for given climatic condition is : ['papaya']\n"
     ]
    }
   ],
   "source": [
    "prediction = model.predict((np.array([[40, 50, 40, 20, 80, 5, 200]])))\n",
    "print(\"The Suggested Crop for given climatic condition is :\",prediction)"
   ]
  }
  
